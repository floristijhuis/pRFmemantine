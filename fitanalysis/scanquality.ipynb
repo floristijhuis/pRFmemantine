{
 "cells": [
  {
   "cell_type": "code",
   "execution_count": 1,
   "metadata": {},
   "outputs": [],
   "source": [
    "%matplotlib inline"
   ]
  },
  {
   "cell_type": "code",
   "execution_count": 6,
   "metadata": {},
   "outputs": [],
   "source": [
    "import pandas as pd\n",
    "import random\n",
    "import numpy as np\n",
    "import matplotlib.pyplot as plt\n",
    "import seaborn as sns\n",
    "import re\n",
    "from scipy.stats import ttest_rel, mannwhitneyu\n",
    "import os\n",
    "import nibabel as nib\n",
    "\n",
    "opj = os.path.join"
   ]
  },
  {
   "cell_type": "markdown",
   "metadata": {},
   "source": [
    "## <h1> Scan quality analysis for Memantine Project </h1>\n",
    "This notebook is used to calculate temporal signal to noise ratio (tSNR) in V1, V2, V3 for all subjects and compare them across sessions. It also compares the mean framewise displacement (FD) during a scan between runs and sessions. In the first part, tSNR for each ROI and FD is plotted for each run individually. Here, you can see the interindividual differences in scan quality but also if there is a within-subject difference in scan quality between the sessions.\n",
    "\n",
    "In the second part, I compare scan quality of placebo vs. memantine scans by calculating the significance of differences in tSNR in V1,V2,V3, and FD."
   ]
  },
  {
   "cell_type": "code",
   "execution_count": 3,
   "metadata": {},
   "outputs": [],
   "source": [
    "root_folder = '/data1/projects/Meman1/projects/pilot/derivatives/'\n",
    "filenamepattern = r'sub-\\d+_ses-\\d+_task-2R_run-\\d+_(?:hemi-(L|R)_space-fsnative|space-fsnative_hemi-(L|R))_desc-denoised_bold\\.npy'\n",
    "\n",
    "# this indicates the randomization used in the experiment\n",
    "conditions = {\n",
    "    'sub-001': {'ses-2': 'placebo', 'ses-3': 'memantine'},\n",
    "    'sub-002': {'ses-2': 'placebo', 'ses-3': 'memantine'},\n",
    "    'sub-003': {'ses-2': 'memantine', 'ses-3': 'placebo'},\n",
    "    'sub-004': {'ses-2': 'memantine', 'ses-3': 'placebo'},\n",
    "    'sub-005': {'ses-2': 'placebo', 'ses-3': 'memantine'},\n",
    "    'sub-007': {'ses-2': 'memantine', 'ses-3': 'placebo'},\n",
    "    'sub-008': {'ses-2': 'placebo', 'ses-3': 'memantine'},\n",
    "    'sub-010': {'ses-2': 'placebo', 'ses-3': 'memantine'},\n",
    "    'sub-012': {'ses-2': 'memantine', 'ses-3': 'placebo'},\n",
    "    'sub-013': {'ses-2': 'placebo', 'ses-3': 'memantine'},\n",
    "    'sub-015': {'ses-2': 'placebo', 'ses-3': 'memantine'},\n",
    "    'sub-016': {'ses-2': 'memantine', 'ses-3': 'placebo'}\n",
    "}"
   ]
  },
  {
   "cell_type": "code",
   "execution_count": 4,
   "metadata": {},
   "outputs": [],
   "source": [
    "def get_max_mean_framewise_displacement(file_path): # function to extract FD values from fmriprep confounds file\n",
    "    # READ TSV FILE\n",
    "    df = pd.read_csv(file_path, sep='\\t')\n",
    "\n",
    "    # EXTRACT COLUMN WITH MEANWISE DISPLACEMENT\n",
    "    displacement_column = df['framewise_displacement'][5:] # THE FIRST 5 VOLUMES WERE REMOVED DURING FITTING AS WELL SO DON'T COUNT IN CALCULATIONS\n",
    "    mean_value = displacement_column.mean()\n",
    "    max_value = displacement_column.max()\n",
    "    return displacement_column, mean_value, max_value"
   ]
  },
  {
   "cell_type": "markdown",
   "metadata": {},
   "source": [
    "## <h2>1. Calculate all necessary scan quality metrics</h2>"
   ]
  },
  {
   "cell_type": "code",
   "execution_count": 5,
   "metadata": {},
   "outputs": [
    {
     "name": "stdout",
     "output_type": "stream",
     "text": [
      "/data1/projects/Meman1/projects/pilot/derivatives/pybest/sub-001/ses-2/unzscored\n",
      "hemi_L: /data1/projects/Meman1/projects/pilot/derivatives/pybest/sub-001/ses-2/unzscored/sub-001_ses-2_task-2R_run-1_space-fsnative_hemi-L_desc-denoised_bold.npy\n",
      "hemi_R: /data1/projects/Meman1/projects/pilot/derivatives/pybest/sub-001/ses-2/unzscored/sub-001_ses-2_task-2R_run-1_space-fsnative_hemi-R_desc-denoised_bold.npy\n",
      "(298394, 220)\n"
     ]
    },
    {
     "name": "stderr",
     "output_type": "stream",
     "text": [
      "invalid value encountered in divide\n"
     ]
    },
    {
     "name": "stdout",
     "output_type": "stream",
     "text": [
      "confoundsfile:  /data1/projects/Meman1/projects/pilot/derivatives/fmriprep/sub-001/ses-2/func/sub-001_ses-2_task-2R_run-1_desc-confounds_timeseries.tsv\n",
      "hemi_L: /data1/projects/Meman1/projects/pilot/derivatives/pybest/sub-001/ses-2/unzscored/sub-001_ses-2_task-2R_run-2_space-fsnative_hemi-L_desc-denoised_bold.npy\n",
      "hemi_R: /data1/projects/Meman1/projects/pilot/derivatives/pybest/sub-001/ses-2/unzscored/sub-001_ses-2_task-2R_run-2_space-fsnative_hemi-R_desc-denoised_bold.npy\n",
      "(298394, 220)\n"
     ]
    },
    {
     "name": "stderr",
     "output_type": "stream",
     "text": [
      "divide by zero encountered in divide\n",
      "invalid value encountered in divide\n"
     ]
    },
    {
     "name": "stdout",
     "output_type": "stream",
     "text": [
      "confoundsfile:  /data1/projects/Meman1/projects/pilot/derivatives/fmriprep/sub-001/ses-2/func/sub-001_ses-2_task-2R_run-2_desc-confounds_timeseries.tsv\n",
      "hemi_L: /data1/projects/Meman1/projects/pilot/derivatives/pybest/sub-001/ses-2/unzscored/sub-001_ses-2_task-2R_run-3_space-fsnative_hemi-L_desc-denoised_bold.npy\n",
      "hemi_R: /data1/projects/Meman1/projects/pilot/derivatives/pybest/sub-001/ses-2/unzscored/sub-001_ses-2_task-2R_run-3_space-fsnative_hemi-R_desc-denoised_bold.npy\n",
      "(298394, 220)\n"
     ]
    },
    {
     "name": "stderr",
     "output_type": "stream",
     "text": [
      "invalid value encountered in divide\n"
     ]
    },
    {
     "name": "stdout",
     "output_type": "stream",
     "text": [
      "confoundsfile:  /data1/projects/Meman1/projects/pilot/derivatives/fmriprep/sub-001/ses-2/func/sub-001_ses-2_task-2R_run-3_desc-confounds_timeseries.tsv\n",
      "hemi_L: /data1/projects/Meman1/projects/pilot/derivatives/pybest/sub-001/ses-2/unzscored/sub-001_ses-2_task-2R_run-4_space-fsnative_hemi-L_desc-denoised_bold.npy\n",
      "hemi_R: /data1/projects/Meman1/projects/pilot/derivatives/pybest/sub-001/ses-2/unzscored/sub-001_ses-2_task-2R_run-4_space-fsnative_hemi-R_desc-denoised_bold.npy\n",
      "(298394, 220)\n"
     ]
    },
    {
     "name": "stderr",
     "output_type": "stream",
     "text": [
      "invalid value encountered in divide\n"
     ]
    },
    {
     "name": "stdout",
     "output_type": "stream",
     "text": [
      "confoundsfile:  /data1/projects/Meman1/projects/pilot/derivatives/fmriprep/sub-001/ses-2/func/sub-001_ses-2_task-2R_run-4_desc-confounds_timeseries.tsv\n",
      "hemi_L: /data1/projects/Meman1/projects/pilot/derivatives/pybest/sub-001/ses-2/unzscored/sub-001_ses-2_task-2R_run-5_space-fsnative_hemi-L_desc-denoised_bold.npy\n",
      "hemi_R: /data1/projects/Meman1/projects/pilot/derivatives/pybest/sub-001/ses-2/unzscored/sub-001_ses-2_task-2R_run-5_space-fsnative_hemi-R_desc-denoised_bold.npy\n",
      "(298394, 220)\n"
     ]
    },
    {
     "name": "stderr",
     "output_type": "stream",
     "text": [
      "invalid value encountered in divide\n"
     ]
    },
    {
     "name": "stdout",
     "output_type": "stream",
     "text": [
      "confoundsfile:  /data1/projects/Meman1/projects/pilot/derivatives/fmriprep/sub-001/ses-2/func/sub-001_ses-2_task-2R_run-5_desc-confounds_timeseries.tsv\n",
      "hemi_L: /data1/projects/Meman1/projects/pilot/derivatives/pybest/sub-001/ses-2/unzscored/sub-001_ses-2_task-2R_run-6_space-fsnative_hemi-L_desc-denoised_bold.npy\n",
      "hemi_R: /data1/projects/Meman1/projects/pilot/derivatives/pybest/sub-001/ses-2/unzscored/sub-001_ses-2_task-2R_run-6_space-fsnative_hemi-R_desc-denoised_bold.npy\n",
      "(298394, 220)\n"
     ]
    },
    {
     "name": "stderr",
     "output_type": "stream",
     "text": [
      "invalid value encountered in divide\n"
     ]
    },
    {
     "name": "stdout",
     "output_type": "stream",
     "text": [
      "confoundsfile:  /data1/projects/Meman1/projects/pilot/derivatives/fmriprep/sub-001/ses-2/func/sub-001_ses-2_task-2R_run-6_desc-confounds_timeseries.tsv\n",
      "/data1/projects/Meman1/projects/pilot/derivatives/pybest/sub-001/ses-3/unzscored\n",
      "hemi_L: /data1/projects/Meman1/projects/pilot/derivatives/pybest/sub-001/ses-3/unzscored/sub-001_ses-3_task-2R_run-1_space-fsnative_hemi-L_desc-denoised_bold.npy\n",
      "hemi_R: /data1/projects/Meman1/projects/pilot/derivatives/pybest/sub-001/ses-3/unzscored/sub-001_ses-3_task-2R_run-1_space-fsnative_hemi-R_desc-denoised_bold.npy\n",
      "(298394, 220)\n"
     ]
    },
    {
     "name": "stderr",
     "output_type": "stream",
     "text": [
      "divide by zero encountered in divide\n",
      "invalid value encountered in divide\n"
     ]
    },
    {
     "name": "stdout",
     "output_type": "stream",
     "text": [
      "confoundsfile:  /data1/projects/Meman1/projects/pilot/derivatives/fmriprep/sub-001/ses-3/func/sub-001_ses-3_task-2R_run-1_desc-confounds_timeseries.tsv\n",
      "hemi_L: /data1/projects/Meman1/projects/pilot/derivatives/pybest/sub-001/ses-3/unzscored/sub-001_ses-3_task-2R_run-2_space-fsnative_hemi-L_desc-denoised_bold.npy\n",
      "hemi_R: /data1/projects/Meman1/projects/pilot/derivatives/pybest/sub-001/ses-3/unzscored/sub-001_ses-3_task-2R_run-2_space-fsnative_hemi-R_desc-denoised_bold.npy\n",
      "(298394, 220)\n"
     ]
    },
    {
     "name": "stderr",
     "output_type": "stream",
     "text": [
      "divide by zero encountered in divide\n",
      "invalid value encountered in divide\n"
     ]
    },
    {
     "name": "stdout",
     "output_type": "stream",
     "text": [
      "confoundsfile:  /data1/projects/Meman1/projects/pilot/derivatives/fmriprep/sub-001/ses-3/func/sub-001_ses-3_task-2R_run-2_desc-confounds_timeseries.tsv\n",
      "hemi_L: /data1/projects/Meman1/projects/pilot/derivatives/pybest/sub-001/ses-3/unzscored/sub-001_ses-3_task-2R_run-3_space-fsnative_hemi-L_desc-denoised_bold.npy\n",
      "hemi_R: /data1/projects/Meman1/projects/pilot/derivatives/pybest/sub-001/ses-3/unzscored/sub-001_ses-3_task-2R_run-3_space-fsnative_hemi-R_desc-denoised_bold.npy\n",
      "(298394, 220)\n"
     ]
    },
    {
     "name": "stderr",
     "output_type": "stream",
     "text": [
      "divide by zero encountered in divide\n",
      "invalid value encountered in divide\n"
     ]
    },
    {
     "name": "stdout",
     "output_type": "stream",
     "text": [
      "confoundsfile:  /data1/projects/Meman1/projects/pilot/derivatives/fmriprep/sub-001/ses-3/func/sub-001_ses-3_task-2R_run-3_desc-confounds_timeseries.tsv\n",
      "hemi_L: /data1/projects/Meman1/projects/pilot/derivatives/pybest/sub-001/ses-3/unzscored/sub-001_ses-3_task-2R_run-4_space-fsnative_hemi-L_desc-denoised_bold.npy\n",
      "hemi_R: /data1/projects/Meman1/projects/pilot/derivatives/pybest/sub-001/ses-3/unzscored/sub-001_ses-3_task-2R_run-4_space-fsnative_hemi-R_desc-denoised_bold.npy\n",
      "(298394, 220)\n"
     ]
    },
    {
     "name": "stderr",
     "output_type": "stream",
     "text": [
      "divide by zero encountered in divide\n",
      "invalid value encountered in divide\n"
     ]
    },
    {
     "name": "stdout",
     "output_type": "stream",
     "text": [
      "confoundsfile:  /data1/projects/Meman1/projects/pilot/derivatives/fmriprep/sub-001/ses-3/func/sub-001_ses-3_task-2R_run-4_desc-confounds_timeseries.tsv\n",
      "hemi_L: /data1/projects/Meman1/projects/pilot/derivatives/pybest/sub-001/ses-3/unzscored/sub-001_ses-3_task-2R_run-5_space-fsnative_hemi-L_desc-denoised_bold.npy\n",
      "hemi_R: /data1/projects/Meman1/projects/pilot/derivatives/pybest/sub-001/ses-3/unzscored/sub-001_ses-3_task-2R_run-5_space-fsnative_hemi-R_desc-denoised_bold.npy\n",
      "(298394, 220)\n"
     ]
    },
    {
     "name": "stderr",
     "output_type": "stream",
     "text": [
      "divide by zero encountered in divide\n",
      "invalid value encountered in divide\n"
     ]
    },
    {
     "name": "stdout",
     "output_type": "stream",
     "text": [
      "confoundsfile:  /data1/projects/Meman1/projects/pilot/derivatives/fmriprep/sub-001/ses-3/func/sub-001_ses-3_task-2R_run-5_desc-confounds_timeseries.tsv\n",
      "hemi_L: /data1/projects/Meman1/projects/pilot/derivatives/pybest/sub-001/ses-3/unzscored/sub-001_ses-3_task-2R_run-6_space-fsnative_hemi-L_desc-denoised_bold.npy\n",
      "hemi_R: /data1/projects/Meman1/projects/pilot/derivatives/pybest/sub-001/ses-3/unzscored/sub-001_ses-3_task-2R_run-6_space-fsnative_hemi-R_desc-denoised_bold.npy\n",
      "(298394, 220)\n"
     ]
    },
    {
     "name": "stderr",
     "output_type": "stream",
     "text": [
      "divide by zero encountered in divide\n",
      "invalid value encountered in divide\n"
     ]
    },
    {
     "name": "stdout",
     "output_type": "stream",
     "text": [
      "confoundsfile:  /data1/projects/Meman1/projects/pilot/derivatives/fmriprep/sub-001/ses-3/func/sub-001_ses-3_task-2R_run-6_desc-confounds_timeseries.tsv\n",
      "/data1/projects/Meman1/projects/pilot/derivatives/pybest/sub-002/ses-2/unzscored\n",
      "hemi_L: /data1/projects/Meman1/projects/pilot/derivatives/pybest/sub-002/ses-2/unzscored/sub-002_ses-2_task-2R_run-1_space-fsnative_hemi-L_desc-denoised_bold.npy\n",
      "hemi_R: /data1/projects/Meman1/projects/pilot/derivatives/pybest/sub-002/ses-2/unzscored/sub-002_ses-2_task-2R_run-1_space-fsnative_hemi-R_desc-denoised_bold.npy\n",
      "(310783, 220)\n"
     ]
    },
    {
     "name": "stderr",
     "output_type": "stream",
     "text": [
      "divide by zero encountered in divide\n",
      "invalid value encountered in divide\n"
     ]
    },
    {
     "name": "stdout",
     "output_type": "stream",
     "text": [
      "confoundsfile:  /data1/projects/Meman1/projects/pilot/derivatives/fmriprep/sub-002/ses-2/func/sub-002_ses-2_task-2R_run-1_desc-confounds_timeseries.tsv\n",
      "hemi_L: /data1/projects/Meman1/projects/pilot/derivatives/pybest/sub-002/ses-2/unzscored/sub-002_ses-2_task-2R_run-2_space-fsnative_hemi-L_desc-denoised_bold.npy\n",
      "hemi_R: /data1/projects/Meman1/projects/pilot/derivatives/pybest/sub-002/ses-2/unzscored/sub-002_ses-2_task-2R_run-2_space-fsnative_hemi-R_desc-denoised_bold.npy\n",
      "(310783, 220)\n"
     ]
    },
    {
     "name": "stderr",
     "output_type": "stream",
     "text": [
      "divide by zero encountered in divide\n",
      "invalid value encountered in divide\n"
     ]
    },
    {
     "name": "stdout",
     "output_type": "stream",
     "text": [
      "confoundsfile:  /data1/projects/Meman1/projects/pilot/derivatives/fmriprep/sub-002/ses-2/func/sub-002_ses-2_task-2R_run-2_desc-confounds_timeseries.tsv\n",
      "hemi_L: /data1/projects/Meman1/projects/pilot/derivatives/pybest/sub-002/ses-2/unzscored/sub-002_ses-2_task-2R_run-3_space-fsnative_hemi-L_desc-denoised_bold.npy\n",
      "hemi_R: /data1/projects/Meman1/projects/pilot/derivatives/pybest/sub-002/ses-2/unzscored/sub-002_ses-2_task-2R_run-3_space-fsnative_hemi-R_desc-denoised_bold.npy\n",
      "(310783, 220)\n"
     ]
    },
    {
     "name": "stderr",
     "output_type": "stream",
     "text": [
      "divide by zero encountered in divide\n",
      "invalid value encountered in divide\n"
     ]
    },
    {
     "name": "stdout",
     "output_type": "stream",
     "text": [
      "confoundsfile:  /data1/projects/Meman1/projects/pilot/derivatives/fmriprep/sub-002/ses-2/func/sub-002_ses-2_task-2R_run-3_desc-confounds_timeseries.tsv\n",
      "hemi_L: /data1/projects/Meman1/projects/pilot/derivatives/pybest/sub-002/ses-2/unzscored/sub-002_ses-2_task-2R_run-4_space-fsnative_hemi-L_desc-denoised_bold.npy\n",
      "hemi_R: /data1/projects/Meman1/projects/pilot/derivatives/pybest/sub-002/ses-2/unzscored/sub-002_ses-2_task-2R_run-4_space-fsnative_hemi-R_desc-denoised_bold.npy\n",
      "(310783, 220)\n"
     ]
    },
    {
     "name": "stderr",
     "output_type": "stream",
     "text": [
      "divide by zero encountered in divide\n",
      "invalid value encountered in divide\n"
     ]
    },
    {
     "name": "stdout",
     "output_type": "stream",
     "text": [
      "confoundsfile:  /data1/projects/Meman1/projects/pilot/derivatives/fmriprep/sub-002/ses-2/func/sub-002_ses-2_task-2R_run-4_desc-confounds_timeseries.tsv\n",
      "hemi_L: /data1/projects/Meman1/projects/pilot/derivatives/pybest/sub-002/ses-2/unzscored/sub-002_ses-2_task-2R_run-5_space-fsnative_hemi-L_desc-denoised_bold.npy\n",
      "hemi_R: /data1/projects/Meman1/projects/pilot/derivatives/pybest/sub-002/ses-2/unzscored/sub-002_ses-2_task-2R_run-5_space-fsnative_hemi-R_desc-denoised_bold.npy\n",
      "(310783, 220)\n"
     ]
    },
    {
     "name": "stderr",
     "output_type": "stream",
     "text": [
      "divide by zero encountered in divide\n",
      "invalid value encountered in divide\n"
     ]
    },
    {
     "name": "stdout",
     "output_type": "stream",
     "text": [
      "confoundsfile:  /data1/projects/Meman1/projects/pilot/derivatives/fmriprep/sub-002/ses-2/func/sub-002_ses-2_task-2R_run-5_desc-confounds_timeseries.tsv\n",
      "hemi_L: /data1/projects/Meman1/projects/pilot/derivatives/pybest/sub-002/ses-2/unzscored/sub-002_ses-2_task-2R_run-6_space-fsnative_hemi-L_desc-denoised_bold.npy\n",
      "hemi_R: /data1/projects/Meman1/projects/pilot/derivatives/pybest/sub-002/ses-2/unzscored/sub-002_ses-2_task-2R_run-6_space-fsnative_hemi-R_desc-denoised_bold.npy\n",
      "(310783, 220)\n"
     ]
    },
    {
     "name": "stderr",
     "output_type": "stream",
     "text": [
      "invalid value encountered in divide\n"
     ]
    },
    {
     "name": "stdout",
     "output_type": "stream",
     "text": [
      "confoundsfile:  /data1/projects/Meman1/projects/pilot/derivatives/fmriprep/sub-002/ses-2/func/sub-002_ses-2_task-2R_run-6_desc-confounds_timeseries.tsv\n",
      "/data1/projects/Meman1/projects/pilot/derivatives/pybest/sub-002/ses-3/unzscored\n",
      "hemi_L: /data1/projects/Meman1/projects/pilot/derivatives/pybest/sub-002/ses-3/unzscored/sub-002_ses-3_task-2R_run-1_space-fsnative_hemi-L_desc-denoised_bold.npy\n",
      "hemi_R: /data1/projects/Meman1/projects/pilot/derivatives/pybest/sub-002/ses-3/unzscored/sub-002_ses-3_task-2R_run-1_space-fsnative_hemi-R_desc-denoised_bold.npy\n",
      "(310783, 220)\n"
     ]
    },
    {
     "name": "stderr",
     "output_type": "stream",
     "text": [
      "invalid value encountered in divide\n"
     ]
    },
    {
     "name": "stdout",
     "output_type": "stream",
     "text": [
      "confoundsfile:  /data1/projects/Meman1/projects/pilot/derivatives/fmriprep/sub-002/ses-3/func/sub-002_ses-3_task-2R_run-1_desc-confounds_timeseries.tsv\n",
      "hemi_L: /data1/projects/Meman1/projects/pilot/derivatives/pybest/sub-002/ses-3/unzscored/sub-002_ses-3_task-2R_run-2_space-fsnative_hemi-L_desc-denoised_bold.npy\n",
      "hemi_R: /data1/projects/Meman1/projects/pilot/derivatives/pybest/sub-002/ses-3/unzscored/sub-002_ses-3_task-2R_run-2_space-fsnative_hemi-R_desc-denoised_bold.npy\n",
      "(310783, 220)\n"
     ]
    },
    {
     "name": "stderr",
     "output_type": "stream",
     "text": [
      "invalid value encountered in divide\n"
     ]
    },
    {
     "name": "stdout",
     "output_type": "stream",
     "text": [
      "confoundsfile:  /data1/projects/Meman1/projects/pilot/derivatives/fmriprep/sub-002/ses-3/func/sub-002_ses-3_task-2R_run-2_desc-confounds_timeseries.tsv\n",
      "hemi_L: /data1/projects/Meman1/projects/pilot/derivatives/pybest/sub-002/ses-3/unzscored/sub-002_ses-3_task-2R_run-3_space-fsnative_hemi-L_desc-denoised_bold.npy\n",
      "hemi_R: /data1/projects/Meman1/projects/pilot/derivatives/pybest/sub-002/ses-3/unzscored/sub-002_ses-3_task-2R_run-3_space-fsnative_hemi-R_desc-denoised_bold.npy\n",
      "(310783, 220)\n"
     ]
    },
    {
     "name": "stderr",
     "output_type": "stream",
     "text": [
      "invalid value encountered in divide\n"
     ]
    },
    {
     "name": "stdout",
     "output_type": "stream",
     "text": [
      "confoundsfile:  /data1/projects/Meman1/projects/pilot/derivatives/fmriprep/sub-002/ses-3/func/sub-002_ses-3_task-2R_run-3_desc-confounds_timeseries.tsv\n",
      "hemi_L: /data1/projects/Meman1/projects/pilot/derivatives/pybest/sub-002/ses-3/unzscored/sub-002_ses-3_task-2R_run-4_space-fsnative_hemi-L_desc-denoised_bold.npy\n",
      "hemi_R: /data1/projects/Meman1/projects/pilot/derivatives/pybest/sub-002/ses-3/unzscored/sub-002_ses-3_task-2R_run-4_space-fsnative_hemi-R_desc-denoised_bold.npy\n",
      "(310783, 220)\n"
     ]
    },
    {
     "name": "stderr",
     "output_type": "stream",
     "text": [
      "invalid value encountered in divide\n"
     ]
    },
    {
     "name": "stdout",
     "output_type": "stream",
     "text": [
      "confoundsfile:  /data1/projects/Meman1/projects/pilot/derivatives/fmriprep/sub-002/ses-3/func/sub-002_ses-3_task-2R_run-4_desc-confounds_timeseries.tsv\n",
      "hemi_L: /data1/projects/Meman1/projects/pilot/derivatives/pybest/sub-002/ses-3/unzscored/sub-002_ses-3_task-2R_run-5_space-fsnative_hemi-L_desc-denoised_bold.npy\n",
      "hemi_R: /data1/projects/Meman1/projects/pilot/derivatives/pybest/sub-002/ses-3/unzscored/sub-002_ses-3_task-2R_run-5_space-fsnative_hemi-R_desc-denoised_bold.npy\n",
      "(310783, 220)\n"
     ]
    },
    {
     "name": "stderr",
     "output_type": "stream",
     "text": [
      "divide by zero encountered in divide\n",
      "invalid value encountered in divide\n"
     ]
    },
    {
     "name": "stdout",
     "output_type": "stream",
     "text": [
      "confoundsfile:  /data1/projects/Meman1/projects/pilot/derivatives/fmriprep/sub-002/ses-3/func/sub-002_ses-3_task-2R_run-5_desc-confounds_timeseries.tsv\n",
      "hemi_L: /data1/projects/Meman1/projects/pilot/derivatives/pybest/sub-002/ses-3/unzscored/sub-002_ses-3_task-2R_run-6_space-fsnative_hemi-L_desc-denoised_bold.npy\n",
      "hemi_R: /data1/projects/Meman1/projects/pilot/derivatives/pybest/sub-002/ses-3/unzscored/sub-002_ses-3_task-2R_run-6_space-fsnative_hemi-R_desc-denoised_bold.npy\n",
      "(310783, 220)\n"
     ]
    },
    {
     "name": "stderr",
     "output_type": "stream",
     "text": [
      "invalid value encountered in divide\n"
     ]
    },
    {
     "name": "stdout",
     "output_type": "stream",
     "text": [
      "confoundsfile:  /data1/projects/Meman1/projects/pilot/derivatives/fmriprep/sub-002/ses-3/func/sub-002_ses-3_task-2R_run-6_desc-confounds_timeseries.tsv\n",
      "/data1/projects/Meman1/projects/pilot/derivatives/pybest/sub-003/ses-2/unzscored\n",
      "hemi_L: /data1/projects/Meman1/projects/pilot/derivatives/pybest/sub-003/ses-2/unzscored/sub-003_ses-2_task-2R_run-1_space-fsnative_hemi-L_desc-denoised_bold.npy\n",
      "hemi_R: /data1/projects/Meman1/projects/pilot/derivatives/pybest/sub-003/ses-2/unzscored/sub-003_ses-2_task-2R_run-1_space-fsnative_hemi-R_desc-denoised_bold.npy\n",
      "(336873, 220)\n"
     ]
    },
    {
     "name": "stderr",
     "output_type": "stream",
     "text": [
      "invalid value encountered in divide\n"
     ]
    },
    {
     "name": "stdout",
     "output_type": "stream",
     "text": [
      "confoundsfile:  /data1/projects/Meman1/projects/pilot/derivatives/fmriprep/sub-003/ses-2/func/sub-003_ses-2_task-2R_run-1_desc-confounds_timeseries.tsv\n",
      "hemi_L: /data1/projects/Meman1/projects/pilot/derivatives/pybest/sub-003/ses-2/unzscored/sub-003_ses-2_task-2R_run-2_space-fsnative_hemi-L_desc-denoised_bold.npy\n",
      "hemi_R: /data1/projects/Meman1/projects/pilot/derivatives/pybest/sub-003/ses-2/unzscored/sub-003_ses-2_task-2R_run-2_space-fsnative_hemi-R_desc-denoised_bold.npy\n",
      "(336873, 220)\n"
     ]
    },
    {
     "name": "stderr",
     "output_type": "stream",
     "text": [
      "invalid value encountered in divide\n"
     ]
    },
    {
     "name": "stdout",
     "output_type": "stream",
     "text": [
      "confoundsfile:  /data1/projects/Meman1/projects/pilot/derivatives/fmriprep/sub-003/ses-2/func/sub-003_ses-2_task-2R_run-2_desc-confounds_timeseries.tsv\n",
      "hemi_L: /data1/projects/Meman1/projects/pilot/derivatives/pybest/sub-003/ses-2/unzscored/sub-003_ses-2_task-2R_run-3_space-fsnative_hemi-L_desc-denoised_bold.npy\n",
      "hemi_R: /data1/projects/Meman1/projects/pilot/derivatives/pybest/sub-003/ses-2/unzscored/sub-003_ses-2_task-2R_run-3_space-fsnative_hemi-R_desc-denoised_bold.npy\n",
      "(336873, 220)\n"
     ]
    },
    {
     "name": "stderr",
     "output_type": "stream",
     "text": [
      "invalid value encountered in divide\n"
     ]
    },
    {
     "name": "stdout",
     "output_type": "stream",
     "text": [
      "confoundsfile:  /data1/projects/Meman1/projects/pilot/derivatives/fmriprep/sub-003/ses-2/func/sub-003_ses-2_task-2R_run-3_desc-confounds_timeseries.tsv\n",
      "hemi_L: /data1/projects/Meman1/projects/pilot/derivatives/pybest/sub-003/ses-2/unzscored/sub-003_ses-2_task-2R_run-4_space-fsnative_hemi-L_desc-denoised_bold.npy\n",
      "hemi_R: /data1/projects/Meman1/projects/pilot/derivatives/pybest/sub-003/ses-2/unzscored/sub-003_ses-2_task-2R_run-4_space-fsnative_hemi-R_desc-denoised_bold.npy\n",
      "(336873, 220)\n"
     ]
    },
    {
     "name": "stderr",
     "output_type": "stream",
     "text": [
      "invalid value encountered in divide\n"
     ]
    },
    {
     "name": "stdout",
     "output_type": "stream",
     "text": [
      "confoundsfile:  /data1/projects/Meman1/projects/pilot/derivatives/fmriprep/sub-003/ses-2/func/sub-003_ses-2_task-2R_run-4_desc-confounds_timeseries.tsv\n",
      "hemi_L: /data1/projects/Meman1/projects/pilot/derivatives/pybest/sub-003/ses-2/unzscored/sub-003_ses-2_task-2R_run-5_space-fsnative_hemi-L_desc-denoised_bold.npy\n",
      "hemi_R: /data1/projects/Meman1/projects/pilot/derivatives/pybest/sub-003/ses-2/unzscored/sub-003_ses-2_task-2R_run-5_space-fsnative_hemi-R_desc-denoised_bold.npy\n",
      "(336873, 220)\n"
     ]
    },
    {
     "name": "stderr",
     "output_type": "stream",
     "text": [
      "invalid value encountered in divide\n"
     ]
    },
    {
     "name": "stdout",
     "output_type": "stream",
     "text": [
      "confoundsfile:  /data1/projects/Meman1/projects/pilot/derivatives/fmriprep/sub-003/ses-2/func/sub-003_ses-2_task-2R_run-5_desc-confounds_timeseries.tsv\n",
      "/data1/projects/Meman1/projects/pilot/derivatives/pybest/sub-003/ses-3/unzscored\n",
      "hemi_L: /data1/projects/Meman1/projects/pilot/derivatives/pybest/sub-003/ses-3/unzscored/sub-003_ses-3_task-2R_run-1_space-fsnative_hemi-L_desc-denoised_bold.npy\n",
      "hemi_R: /data1/projects/Meman1/projects/pilot/derivatives/pybest/sub-003/ses-3/unzscored/sub-003_ses-3_task-2R_run-1_space-fsnative_hemi-R_desc-denoised_bold.npy\n",
      "(336873, 220)\n"
     ]
    },
    {
     "name": "stderr",
     "output_type": "stream",
     "text": [
      "invalid value encountered in divide\n"
     ]
    },
    {
     "name": "stdout",
     "output_type": "stream",
     "text": [
      "confoundsfile:  /data1/projects/Meman1/projects/pilot/derivatives/fmriprep/sub-003/ses-3/func/sub-003_ses-3_task-2R_run-1_desc-confounds_timeseries.tsv\n",
      "hemi_L: /data1/projects/Meman1/projects/pilot/derivatives/pybest/sub-003/ses-3/unzscored/sub-003_ses-3_task-2R_run-2_space-fsnative_hemi-L_desc-denoised_bold.npy\n",
      "hemi_R: /data1/projects/Meman1/projects/pilot/derivatives/pybest/sub-003/ses-3/unzscored/sub-003_ses-3_task-2R_run-2_space-fsnative_hemi-R_desc-denoised_bold.npy\n",
      "(336873, 220)\n"
     ]
    },
    {
     "name": "stderr",
     "output_type": "stream",
     "text": [
      "invalid value encountered in divide\n"
     ]
    },
    {
     "name": "stdout",
     "output_type": "stream",
     "text": [
      "confoundsfile:  /data1/projects/Meman1/projects/pilot/derivatives/fmriprep/sub-003/ses-3/func/sub-003_ses-3_task-2R_run-2_desc-confounds_timeseries.tsv\n",
      "hemi_L: /data1/projects/Meman1/projects/pilot/derivatives/pybest/sub-003/ses-3/unzscored/sub-003_ses-3_task-2R_run-3_space-fsnative_hemi-L_desc-denoised_bold.npy\n",
      "hemi_R: /data1/projects/Meman1/projects/pilot/derivatives/pybest/sub-003/ses-3/unzscored/sub-003_ses-3_task-2R_run-3_space-fsnative_hemi-R_desc-denoised_bold.npy\n",
      "(336873, 220)\n"
     ]
    },
    {
     "name": "stderr",
     "output_type": "stream",
     "text": [
      "invalid value encountered in divide\n"
     ]
    },
    {
     "name": "stdout",
     "output_type": "stream",
     "text": [
      "confoundsfile:  /data1/projects/Meman1/projects/pilot/derivatives/fmriprep/sub-003/ses-3/func/sub-003_ses-3_task-2R_run-3_desc-confounds_timeseries.tsv\n",
      "hemi_L: /data1/projects/Meman1/projects/pilot/derivatives/pybest/sub-003/ses-3/unzscored/sub-003_ses-3_task-2R_run-4_space-fsnative_hemi-L_desc-denoised_bold.npy\n",
      "hemi_R: /data1/projects/Meman1/projects/pilot/derivatives/pybest/sub-003/ses-3/unzscored/sub-003_ses-3_task-2R_run-4_space-fsnative_hemi-R_desc-denoised_bold.npy\n",
      "(336873, 220)\n"
     ]
    },
    {
     "name": "stderr",
     "output_type": "stream",
     "text": [
      "invalid value encountered in divide\n"
     ]
    },
    {
     "name": "stdout",
     "output_type": "stream",
     "text": [
      "confoundsfile:  /data1/projects/Meman1/projects/pilot/derivatives/fmriprep/sub-003/ses-3/func/sub-003_ses-3_task-2R_run-4_desc-confounds_timeseries.tsv\n",
      "hemi_L: /data1/projects/Meman1/projects/pilot/derivatives/pybest/sub-003/ses-3/unzscored/sub-003_ses-3_task-2R_run-5_space-fsnative_hemi-L_desc-denoised_bold.npy\n",
      "hemi_R: /data1/projects/Meman1/projects/pilot/derivatives/pybest/sub-003/ses-3/unzscored/sub-003_ses-3_task-2R_run-5_space-fsnative_hemi-R_desc-denoised_bold.npy\n",
      "(336873, 220)\n"
     ]
    },
    {
     "name": "stderr",
     "output_type": "stream",
     "text": [
      "invalid value encountered in divide\n"
     ]
    },
    {
     "name": "stdout",
     "output_type": "stream",
     "text": [
      "confoundsfile:  /data1/projects/Meman1/projects/pilot/derivatives/fmriprep/sub-003/ses-3/func/sub-003_ses-3_task-2R_run-5_desc-confounds_timeseries.tsv\n",
      "hemi_L: /data1/projects/Meman1/projects/pilot/derivatives/pybest/sub-003/ses-3/unzscored/sub-003_ses-3_task-2R_run-6_space-fsnative_hemi-L_desc-denoised_bold.npy\n",
      "hemi_R: /data1/projects/Meman1/projects/pilot/derivatives/pybest/sub-003/ses-3/unzscored/sub-003_ses-3_task-2R_run-6_space-fsnative_hemi-R_desc-denoised_bold.npy\n",
      "(336873, 220)\n"
     ]
    },
    {
     "name": "stderr",
     "output_type": "stream",
     "text": [
      "invalid value encountered in divide\n"
     ]
    },
    {
     "name": "stdout",
     "output_type": "stream",
     "text": [
      "confoundsfile:  /data1/projects/Meman1/projects/pilot/derivatives/fmriprep/sub-003/ses-3/func/sub-003_ses-3_task-2R_run-6_desc-confounds_timeseries.tsv\n",
      "/data1/projects/Meman1/projects/pilot/derivatives/pybest/sub-004/ses-2/unzscored\n",
      "hemi_L: /data1/projects/Meman1/projects/pilot/derivatives/pybest/sub-004/ses-2/unzscored/sub-004_ses-2_task-2R_run-1_space-fsnative_hemi-L_desc-denoised_bold.npy\n",
      "hemi_R: /data1/projects/Meman1/projects/pilot/derivatives/pybest/sub-004/ses-2/unzscored/sub-004_ses-2_task-2R_run-1_space-fsnative_hemi-R_desc-denoised_bold.npy\n",
      "(301542, 220)\n"
     ]
    },
    {
     "name": "stderr",
     "output_type": "stream",
     "text": [
      "invalid value encountered in divide\n"
     ]
    },
    {
     "name": "stdout",
     "output_type": "stream",
     "text": [
      "confoundsfile:  /data1/projects/Meman1/projects/pilot/derivatives/fmriprep/sub-004/ses-2/func/sub-004_ses-2_task-2R_run-1_desc-confounds_timeseries.tsv\n",
      "hemi_L: /data1/projects/Meman1/projects/pilot/derivatives/pybest/sub-004/ses-2/unzscored/sub-004_ses-2_task-2R_run-2_space-fsnative_hemi-L_desc-denoised_bold.npy\n",
      "hemi_R: /data1/projects/Meman1/projects/pilot/derivatives/pybest/sub-004/ses-2/unzscored/sub-004_ses-2_task-2R_run-2_space-fsnative_hemi-R_desc-denoised_bold.npy\n",
      "(301542, 220)\n"
     ]
    },
    {
     "name": "stderr",
     "output_type": "stream",
     "text": [
      "invalid value encountered in divide\n"
     ]
    },
    {
     "name": "stdout",
     "output_type": "stream",
     "text": [
      "confoundsfile:  /data1/projects/Meman1/projects/pilot/derivatives/fmriprep/sub-004/ses-2/func/sub-004_ses-2_task-2R_run-2_desc-confounds_timeseries.tsv\n",
      "hemi_L: /data1/projects/Meman1/projects/pilot/derivatives/pybest/sub-004/ses-2/unzscored/sub-004_ses-2_task-2R_run-3_space-fsnative_hemi-L_desc-denoised_bold.npy\n",
      "hemi_R: /data1/projects/Meman1/projects/pilot/derivatives/pybest/sub-004/ses-2/unzscored/sub-004_ses-2_task-2R_run-3_space-fsnative_hemi-R_desc-denoised_bold.npy\n",
      "(301542, 220)\n"
     ]
    },
    {
     "name": "stderr",
     "output_type": "stream",
     "text": [
      "invalid value encountered in divide\n"
     ]
    },
    {
     "name": "stdout",
     "output_type": "stream",
     "text": [
      "confoundsfile:  /data1/projects/Meman1/projects/pilot/derivatives/fmriprep/sub-004/ses-2/func/sub-004_ses-2_task-2R_run-3_desc-confounds_timeseries.tsv\n",
      "hemi_L: /data1/projects/Meman1/projects/pilot/derivatives/pybest/sub-004/ses-2/unzscored/sub-004_ses-2_task-2R_run-4_space-fsnative_hemi-L_desc-denoised_bold.npy\n",
      "hemi_R: /data1/projects/Meman1/projects/pilot/derivatives/pybest/sub-004/ses-2/unzscored/sub-004_ses-2_task-2R_run-4_space-fsnative_hemi-R_desc-denoised_bold.npy\n",
      "(301542, 220)\n"
     ]
    },
    {
     "name": "stderr",
     "output_type": "stream",
     "text": [
      "invalid value encountered in divide\n"
     ]
    },
    {
     "name": "stdout",
     "output_type": "stream",
     "text": [
      "confoundsfile:  /data1/projects/Meman1/projects/pilot/derivatives/fmriprep/sub-004/ses-2/func/sub-004_ses-2_task-2R_run-4_desc-confounds_timeseries.tsv\n",
      "hemi_L: /data1/projects/Meman1/projects/pilot/derivatives/pybest/sub-004/ses-2/unzscored/sub-004_ses-2_task-2R_run-5_space-fsnative_hemi-L_desc-denoised_bold.npy\n",
      "hemi_R: /data1/projects/Meman1/projects/pilot/derivatives/pybest/sub-004/ses-2/unzscored/sub-004_ses-2_task-2R_run-5_space-fsnative_hemi-R_desc-denoised_bold.npy\n",
      "(301542, 220)\n"
     ]
    },
    {
     "name": "stderr",
     "output_type": "stream",
     "text": [
      "invalid value encountered in divide\n"
     ]
    },
    {
     "name": "stdout",
     "output_type": "stream",
     "text": [
      "confoundsfile:  /data1/projects/Meman1/projects/pilot/derivatives/fmriprep/sub-004/ses-2/func/sub-004_ses-2_task-2R_run-5_desc-confounds_timeseries.tsv\n",
      "hemi_L: /data1/projects/Meman1/projects/pilot/derivatives/pybest/sub-004/ses-2/unzscored/sub-004_ses-2_task-2R_run-6_space-fsnative_hemi-L_desc-denoised_bold.npy\n",
      "hemi_R: /data1/projects/Meman1/projects/pilot/derivatives/pybest/sub-004/ses-2/unzscored/sub-004_ses-2_task-2R_run-6_space-fsnative_hemi-R_desc-denoised_bold.npy\n",
      "(301542, 220)\n"
     ]
    },
    {
     "name": "stderr",
     "output_type": "stream",
     "text": [
      "invalid value encountered in divide\n"
     ]
    },
    {
     "name": "stdout",
     "output_type": "stream",
     "text": [
      "confoundsfile:  /data1/projects/Meman1/projects/pilot/derivatives/fmriprep/sub-004/ses-2/func/sub-004_ses-2_task-2R_run-6_desc-confounds_timeseries.tsv\n",
      "/data1/projects/Meman1/projects/pilot/derivatives/pybest/sub-004/ses-3/unzscored\n",
      "hemi_L: /data1/projects/Meman1/projects/pilot/derivatives/pybest/sub-004/ses-3/unzscored/sub-004_ses-3_task-2R_run-1_space-fsnative_hemi-L_desc-denoised_bold.npy\n",
      "hemi_R: /data1/projects/Meman1/projects/pilot/derivatives/pybest/sub-004/ses-3/unzscored/sub-004_ses-3_task-2R_run-1_space-fsnative_hemi-R_desc-denoised_bold.npy\n",
      "(301542, 220)\n"
     ]
    },
    {
     "name": "stderr",
     "output_type": "stream",
     "text": [
      "divide by zero encountered in divide\n",
      "invalid value encountered in divide\n"
     ]
    },
    {
     "name": "stdout",
     "output_type": "stream",
     "text": [
      "confoundsfile:  /data1/projects/Meman1/projects/pilot/derivatives/fmriprep/sub-004/ses-3/func/sub-004_ses-3_task-2R_run-1_desc-confounds_timeseries.tsv\n",
      "hemi_L: /data1/projects/Meman1/projects/pilot/derivatives/pybest/sub-004/ses-3/unzscored/sub-004_ses-3_task-2R_run-2_space-fsnative_hemi-L_desc-denoised_bold.npy\n",
      "hemi_R: /data1/projects/Meman1/projects/pilot/derivatives/pybest/sub-004/ses-3/unzscored/sub-004_ses-3_task-2R_run-2_space-fsnative_hemi-R_desc-denoised_bold.npy\n",
      "(301542, 220)\n"
     ]
    },
    {
     "name": "stderr",
     "output_type": "stream",
     "text": [
      "divide by zero encountered in divide\n",
      "invalid value encountered in divide\n"
     ]
    },
    {
     "name": "stdout",
     "output_type": "stream",
     "text": [
      "confoundsfile:  /data1/projects/Meman1/projects/pilot/derivatives/fmriprep/sub-004/ses-3/func/sub-004_ses-3_task-2R_run-2_desc-confounds_timeseries.tsv\n",
      "hemi_L: /data1/projects/Meman1/projects/pilot/derivatives/pybest/sub-004/ses-3/unzscored/sub-004_ses-3_task-2R_run-3_space-fsnative_hemi-L_desc-denoised_bold.npy\n",
      "hemi_R: /data1/projects/Meman1/projects/pilot/derivatives/pybest/sub-004/ses-3/unzscored/sub-004_ses-3_task-2R_run-3_space-fsnative_hemi-R_desc-denoised_bold.npy\n",
      "(301542, 220)\n"
     ]
    },
    {
     "name": "stderr",
     "output_type": "stream",
     "text": [
      "divide by zero encountered in divide\n",
      "invalid value encountered in divide\n"
     ]
    },
    {
     "name": "stdout",
     "output_type": "stream",
     "text": [
      "confoundsfile:  /data1/projects/Meman1/projects/pilot/derivatives/fmriprep/sub-004/ses-3/func/sub-004_ses-3_task-2R_run-3_desc-confounds_timeseries.tsv\n",
      "hemi_L: /data1/projects/Meman1/projects/pilot/derivatives/pybest/sub-004/ses-3/unzscored/sub-004_ses-3_task-2R_run-4_space-fsnative_hemi-L_desc-denoised_bold.npy\n",
      "hemi_R: /data1/projects/Meman1/projects/pilot/derivatives/pybest/sub-004/ses-3/unzscored/sub-004_ses-3_task-2R_run-4_space-fsnative_hemi-R_desc-denoised_bold.npy\n",
      "(301542, 220)\n"
     ]
    },
    {
     "name": "stderr",
     "output_type": "stream",
     "text": [
      "invalid value encountered in divide\n"
     ]
    },
    {
     "name": "stdout",
     "output_type": "stream",
     "text": [
      "confoundsfile:  /data1/projects/Meman1/projects/pilot/derivatives/fmriprep/sub-004/ses-3/func/sub-004_ses-3_task-2R_run-4_desc-confounds_timeseries.tsv\n",
      "hemi_L: /data1/projects/Meman1/projects/pilot/derivatives/pybest/sub-004/ses-3/unzscored/sub-004_ses-3_task-2R_run-5_space-fsnative_hemi-L_desc-denoised_bold.npy\n",
      "hemi_R: /data1/projects/Meman1/projects/pilot/derivatives/pybest/sub-004/ses-3/unzscored/sub-004_ses-3_task-2R_run-5_space-fsnative_hemi-R_desc-denoised_bold.npy\n",
      "(301542, 220)\n"
     ]
    },
    {
     "name": "stderr",
     "output_type": "stream",
     "text": [
      "divide by zero encountered in divide\n",
      "invalid value encountered in divide\n"
     ]
    },
    {
     "name": "stdout",
     "output_type": "stream",
     "text": [
      "confoundsfile:  /data1/projects/Meman1/projects/pilot/derivatives/fmriprep/sub-004/ses-3/func/sub-004_ses-3_task-2R_run-5_desc-confounds_timeseries.tsv\n",
      "hemi_L: /data1/projects/Meman1/projects/pilot/derivatives/pybest/sub-004/ses-3/unzscored/sub-004_ses-3_task-2R_run-6_space-fsnative_hemi-L_desc-denoised_bold.npy\n",
      "hemi_R: /data1/projects/Meman1/projects/pilot/derivatives/pybest/sub-004/ses-3/unzscored/sub-004_ses-3_task-2R_run-6_space-fsnative_hemi-R_desc-denoised_bold.npy\n",
      "(301542, 220)\n"
     ]
    },
    {
     "name": "stderr",
     "output_type": "stream",
     "text": [
      "divide by zero encountered in divide\n",
      "invalid value encountered in divide\n"
     ]
    },
    {
     "name": "stdout",
     "output_type": "stream",
     "text": [
      "confoundsfile:  /data1/projects/Meman1/projects/pilot/derivatives/fmriprep/sub-004/ses-3/func/sub-004_ses-3_task-2R_run-6_desc-confounds_timeseries.tsv\n",
      "/data1/projects/Meman1/projects/pilot/derivatives/pybest/sub-005/ses-2/unzscored\n",
      "hemi_L: /data1/projects/Meman1/projects/pilot/derivatives/pybest/sub-005/ses-2/unzscored/sub-005_ses-2_task-2R_run-1_space-fsnative_hemi-L_desc-denoised_bold.npy\n",
      "hemi_R: /data1/projects/Meman1/projects/pilot/derivatives/pybest/sub-005/ses-2/unzscored/sub-005_ses-2_task-2R_run-1_space-fsnative_hemi-R_desc-denoised_bold.npy\n",
      "(327099, 220)\n"
     ]
    },
    {
     "name": "stderr",
     "output_type": "stream",
     "text": [
      "invalid value encountered in divide\n"
     ]
    },
    {
     "name": "stdout",
     "output_type": "stream",
     "text": [
      "confoundsfile:  /data1/projects/Meman1/projects/pilot/derivatives/fmriprep/sub-005/ses-2/func/sub-005_ses-2_task-2R_run-1_desc-confounds_timeseries.tsv\n",
      "hemi_L: /data1/projects/Meman1/projects/pilot/derivatives/pybest/sub-005/ses-2/unzscored/sub-005_ses-2_task-2R_run-2_space-fsnative_hemi-L_desc-denoised_bold.npy\n",
      "hemi_R: /data1/projects/Meman1/projects/pilot/derivatives/pybest/sub-005/ses-2/unzscored/sub-005_ses-2_task-2R_run-2_space-fsnative_hemi-R_desc-denoised_bold.npy\n",
      "(327099, 220)\n"
     ]
    },
    {
     "name": "stderr",
     "output_type": "stream",
     "text": [
      "invalid value encountered in divide\n"
     ]
    },
    {
     "name": "stdout",
     "output_type": "stream",
     "text": [
      "confoundsfile:  /data1/projects/Meman1/projects/pilot/derivatives/fmriprep/sub-005/ses-2/func/sub-005_ses-2_task-2R_run-2_desc-confounds_timeseries.tsv\n",
      "hemi_L: /data1/projects/Meman1/projects/pilot/derivatives/pybest/sub-005/ses-2/unzscored/sub-005_ses-2_task-2R_run-3_space-fsnative_hemi-L_desc-denoised_bold.npy\n",
      "hemi_R: /data1/projects/Meman1/projects/pilot/derivatives/pybest/sub-005/ses-2/unzscored/sub-005_ses-2_task-2R_run-3_space-fsnative_hemi-R_desc-denoised_bold.npy\n",
      "(327099, 220)\n"
     ]
    },
    {
     "name": "stderr",
     "output_type": "stream",
     "text": [
      "invalid value encountered in divide\n"
     ]
    },
    {
     "name": "stdout",
     "output_type": "stream",
     "text": [
      "confoundsfile:  /data1/projects/Meman1/projects/pilot/derivatives/fmriprep/sub-005/ses-2/func/sub-005_ses-2_task-2R_run-3_desc-confounds_timeseries.tsv\n",
      "hemi_L: /data1/projects/Meman1/projects/pilot/derivatives/pybest/sub-005/ses-2/unzscored/sub-005_ses-2_task-2R_run-4_space-fsnative_hemi-L_desc-denoised_bold.npy\n",
      "hemi_R: /data1/projects/Meman1/projects/pilot/derivatives/pybest/sub-005/ses-2/unzscored/sub-005_ses-2_task-2R_run-4_space-fsnative_hemi-R_desc-denoised_bold.npy\n",
      "(327099, 220)\n"
     ]
    },
    {
     "name": "stderr",
     "output_type": "stream",
     "text": [
      "invalid value encountered in divide\n"
     ]
    },
    {
     "name": "stdout",
     "output_type": "stream",
     "text": [
      "confoundsfile:  /data1/projects/Meman1/projects/pilot/derivatives/fmriprep/sub-005/ses-2/func/sub-005_ses-2_task-2R_run-4_desc-confounds_timeseries.tsv\n",
      "hemi_L: /data1/projects/Meman1/projects/pilot/derivatives/pybest/sub-005/ses-2/unzscored/sub-005_ses-2_task-2R_run-5_space-fsnative_hemi-L_desc-denoised_bold.npy\n",
      "hemi_R: /data1/projects/Meman1/projects/pilot/derivatives/pybest/sub-005/ses-2/unzscored/sub-005_ses-2_task-2R_run-5_space-fsnative_hemi-R_desc-denoised_bold.npy\n",
      "(327099, 220)\n"
     ]
    },
    {
     "name": "stderr",
     "output_type": "stream",
     "text": [
      "invalid value encountered in divide\n"
     ]
    },
    {
     "name": "stdout",
     "output_type": "stream",
     "text": [
      "confoundsfile:  /data1/projects/Meman1/projects/pilot/derivatives/fmriprep/sub-005/ses-2/func/sub-005_ses-2_task-2R_run-5_desc-confounds_timeseries.tsv\n",
      "hemi_L: /data1/projects/Meman1/projects/pilot/derivatives/pybest/sub-005/ses-2/unzscored/sub-005_ses-2_task-2R_run-6_space-fsnative_hemi-L_desc-denoised_bold.npy\n",
      "hemi_R: /data1/projects/Meman1/projects/pilot/derivatives/pybest/sub-005/ses-2/unzscored/sub-005_ses-2_task-2R_run-6_space-fsnative_hemi-R_desc-denoised_bold.npy\n",
      "(327099, 220)\n"
     ]
    },
    {
     "name": "stderr",
     "output_type": "stream",
     "text": [
      "invalid value encountered in divide\n"
     ]
    },
    {
     "name": "stdout",
     "output_type": "stream",
     "text": [
      "confoundsfile:  /data1/projects/Meman1/projects/pilot/derivatives/fmriprep/sub-005/ses-2/func/sub-005_ses-2_task-2R_run-6_desc-confounds_timeseries.tsv\n",
      "/data1/projects/Meman1/projects/pilot/derivatives/pybest/sub-005/ses-3/unzscored\n",
      "hemi_L: /data1/projects/Meman1/projects/pilot/derivatives/pybest/sub-005/ses-3/unzscored/sub-005_ses-3_task-2R_run-1_space-fsnative_hemi-L_desc-denoised_bold.npy\n",
      "hemi_R: /data1/projects/Meman1/projects/pilot/derivatives/pybest/sub-005/ses-3/unzscored/sub-005_ses-3_task-2R_run-1_space-fsnative_hemi-R_desc-denoised_bold.npy\n",
      "(327099, 220)\n"
     ]
    },
    {
     "name": "stderr",
     "output_type": "stream",
     "text": [
      "invalid value encountered in divide\n"
     ]
    },
    {
     "name": "stdout",
     "output_type": "stream",
     "text": [
      "confoundsfile:  /data1/projects/Meman1/projects/pilot/derivatives/fmriprep/sub-005/ses-3/func/sub-005_ses-3_task-2R_run-1_desc-confounds_timeseries.tsv\n",
      "hemi_L: /data1/projects/Meman1/projects/pilot/derivatives/pybest/sub-005/ses-3/unzscored/sub-005_ses-3_task-2R_run-2_space-fsnative_hemi-L_desc-denoised_bold.npy\n",
      "hemi_R: /data1/projects/Meman1/projects/pilot/derivatives/pybest/sub-005/ses-3/unzscored/sub-005_ses-3_task-2R_run-2_space-fsnative_hemi-R_desc-denoised_bold.npy\n",
      "(327099, 220)\n"
     ]
    },
    {
     "name": "stderr",
     "output_type": "stream",
     "text": [
      "invalid value encountered in divide\n"
     ]
    },
    {
     "name": "stdout",
     "output_type": "stream",
     "text": [
      "confoundsfile:  /data1/projects/Meman1/projects/pilot/derivatives/fmriprep/sub-005/ses-3/func/sub-005_ses-3_task-2R_run-2_desc-confounds_timeseries.tsv\n",
      "hemi_L: /data1/projects/Meman1/projects/pilot/derivatives/pybest/sub-005/ses-3/unzscored/sub-005_ses-3_task-2R_run-4_space-fsnative_hemi-L_desc-denoised_bold.npy\n",
      "hemi_R: /data1/projects/Meman1/projects/pilot/derivatives/pybest/sub-005/ses-3/unzscored/sub-005_ses-3_task-2R_run-4_space-fsnative_hemi-R_desc-denoised_bold.npy\n",
      "(327099, 220)\n"
     ]
    },
    {
     "name": "stderr",
     "output_type": "stream",
     "text": [
      "invalid value encountered in divide\n"
     ]
    },
    {
     "name": "stdout",
     "output_type": "stream",
     "text": [
      "confoundsfile:  /data1/projects/Meman1/projects/pilot/derivatives/fmriprep/sub-005/ses-3/func/sub-005_ses-3_task-2R_run-4_desc-confounds_timeseries.tsv\n",
      "hemi_L: /data1/projects/Meman1/projects/pilot/derivatives/pybest/sub-005/ses-3/unzscored/sub-005_ses-3_task-2R_run-5_space-fsnative_hemi-L_desc-denoised_bold.npy\n",
      "hemi_R: /data1/projects/Meman1/projects/pilot/derivatives/pybest/sub-005/ses-3/unzscored/sub-005_ses-3_task-2R_run-5_space-fsnative_hemi-R_desc-denoised_bold.npy\n",
      "(327099, 220)\n"
     ]
    },
    {
     "name": "stderr",
     "output_type": "stream",
     "text": [
      "invalid value encountered in divide\n"
     ]
    },
    {
     "name": "stdout",
     "output_type": "stream",
     "text": [
      "confoundsfile:  /data1/projects/Meman1/projects/pilot/derivatives/fmriprep/sub-005/ses-3/func/sub-005_ses-3_task-2R_run-5_desc-confounds_timeseries.tsv\n",
      "hemi_L: /data1/projects/Meman1/projects/pilot/derivatives/pybest/sub-005/ses-3/unzscored/sub-005_ses-3_task-2R_run-6_space-fsnative_hemi-L_desc-denoised_bold.npy\n",
      "hemi_R: /data1/projects/Meman1/projects/pilot/derivatives/pybest/sub-005/ses-3/unzscored/sub-005_ses-3_task-2R_run-6_space-fsnative_hemi-R_desc-denoised_bold.npy\n",
      "(327099, 220)\n"
     ]
    },
    {
     "name": "stderr",
     "output_type": "stream",
     "text": [
      "invalid value encountered in divide\n"
     ]
    },
    {
     "name": "stdout",
     "output_type": "stream",
     "text": [
      "confoundsfile:  /data1/projects/Meman1/projects/pilot/derivatives/fmriprep/sub-005/ses-3/func/sub-005_ses-3_task-2R_run-6_desc-confounds_timeseries.tsv\n",
      "hemi_L: /data1/projects/Meman1/projects/pilot/derivatives/pybest/sub-005/ses-3/unzscored/sub-005_ses-3_task-2R_run-7_space-fsnative_hemi-L_desc-denoised_bold.npy\n",
      "hemi_R: /data1/projects/Meman1/projects/pilot/derivatives/pybest/sub-005/ses-3/unzscored/sub-005_ses-3_task-2R_run-7_space-fsnative_hemi-R_desc-denoised_bold.npy\n",
      "(327099, 220)\n"
     ]
    },
    {
     "name": "stderr",
     "output_type": "stream",
     "text": [
      "invalid value encountered in divide\n"
     ]
    },
    {
     "name": "stdout",
     "output_type": "stream",
     "text": [
      "confoundsfile:  /data1/projects/Meman1/projects/pilot/derivatives/fmriprep/sub-005/ses-3/func/sub-005_ses-3_task-2R_run-7_desc-confounds_timeseries.tsv\n",
      "/data1/projects/Meman1/projects/pilot/derivatives/pybest/sub-007/ses-2/unzscored\n",
      "hemi_L: /data1/projects/Meman1/projects/pilot/derivatives/pybest/sub-007/ses-2/unzscored/sub-007_ses-2_task-2R_run-1_space-fsnative_hemi-L_desc-denoised_bold.npy\n",
      "hemi_R: /data1/projects/Meman1/projects/pilot/derivatives/pybest/sub-007/ses-2/unzscored/sub-007_ses-2_task-2R_run-1_space-fsnative_hemi-R_desc-denoised_bold.npy\n",
      "(339716, 220)\n"
     ]
    },
    {
     "name": "stderr",
     "output_type": "stream",
     "text": [
      "invalid value encountered in divide\n"
     ]
    },
    {
     "name": "stdout",
     "output_type": "stream",
     "text": [
      "confoundsfile:  /data1/projects/Meman1/projects/pilot/derivatives/fmriprep/sub-007/ses-2/func/sub-007_ses-2_task-2R_run-1_desc-confounds_timeseries.tsv\n",
      "hemi_L: /data1/projects/Meman1/projects/pilot/derivatives/pybest/sub-007/ses-2/unzscored/sub-007_ses-2_task-2R_run-2_space-fsnative_hemi-L_desc-denoised_bold.npy\n",
      "hemi_R: /data1/projects/Meman1/projects/pilot/derivatives/pybest/sub-007/ses-2/unzscored/sub-007_ses-2_task-2R_run-2_space-fsnative_hemi-R_desc-denoised_bold.npy\n",
      "(339716, 220)\n"
     ]
    },
    {
     "name": "stderr",
     "output_type": "stream",
     "text": [
      "invalid value encountered in divide\n"
     ]
    },
    {
     "name": "stdout",
     "output_type": "stream",
     "text": [
      "confoundsfile:  /data1/projects/Meman1/projects/pilot/derivatives/fmriprep/sub-007/ses-2/func/sub-007_ses-2_task-2R_run-2_desc-confounds_timeseries.tsv\n",
      "hemi_L: /data1/projects/Meman1/projects/pilot/derivatives/pybest/sub-007/ses-2/unzscored/sub-007_ses-2_task-2R_run-3_space-fsnative_hemi-L_desc-denoised_bold.npy\n",
      "hemi_R: /data1/projects/Meman1/projects/pilot/derivatives/pybest/sub-007/ses-2/unzscored/sub-007_ses-2_task-2R_run-3_space-fsnative_hemi-R_desc-denoised_bold.npy\n",
      "(339716, 220)\n"
     ]
    },
    {
     "name": "stderr",
     "output_type": "stream",
     "text": [
      "invalid value encountered in divide\n"
     ]
    },
    {
     "name": "stdout",
     "output_type": "stream",
     "text": [
      "confoundsfile:  /data1/projects/Meman1/projects/pilot/derivatives/fmriprep/sub-007/ses-2/func/sub-007_ses-2_task-2R_run-3_desc-confounds_timeseries.tsv\n",
      "hemi_L: /data1/projects/Meman1/projects/pilot/derivatives/pybest/sub-007/ses-2/unzscored/sub-007_ses-2_task-2R_run-4_space-fsnative_hemi-L_desc-denoised_bold.npy\n",
      "hemi_R: /data1/projects/Meman1/projects/pilot/derivatives/pybest/sub-007/ses-2/unzscored/sub-007_ses-2_task-2R_run-4_space-fsnative_hemi-R_desc-denoised_bold.npy\n",
      "(339716, 220)\n"
     ]
    },
    {
     "name": "stderr",
     "output_type": "stream",
     "text": [
      "invalid value encountered in divide\n"
     ]
    },
    {
     "name": "stdout",
     "output_type": "stream",
     "text": [
      "confoundsfile:  /data1/projects/Meman1/projects/pilot/derivatives/fmriprep/sub-007/ses-2/func/sub-007_ses-2_task-2R_run-4_desc-confounds_timeseries.tsv\n",
      "hemi_L: /data1/projects/Meman1/projects/pilot/derivatives/pybest/sub-007/ses-2/unzscored/sub-007_ses-2_task-2R_run-5_space-fsnative_hemi-L_desc-denoised_bold.npy\n",
      "hemi_R: /data1/projects/Meman1/projects/pilot/derivatives/pybest/sub-007/ses-2/unzscored/sub-007_ses-2_task-2R_run-5_space-fsnative_hemi-R_desc-denoised_bold.npy\n",
      "(339716, 220)\n"
     ]
    },
    {
     "name": "stderr",
     "output_type": "stream",
     "text": [
      "invalid value encountered in divide\n"
     ]
    },
    {
     "name": "stdout",
     "output_type": "stream",
     "text": [
      "confoundsfile:  /data1/projects/Meman1/projects/pilot/derivatives/fmriprep/sub-007/ses-2/func/sub-007_ses-2_task-2R_run-5_desc-confounds_timeseries.tsv\n",
      "hemi_L: /data1/projects/Meman1/projects/pilot/derivatives/pybest/sub-007/ses-2/unzscored/sub-007_ses-2_task-2R_run-6_space-fsnative_hemi-L_desc-denoised_bold.npy\n",
      "hemi_R: /data1/projects/Meman1/projects/pilot/derivatives/pybest/sub-007/ses-2/unzscored/sub-007_ses-2_task-2R_run-6_space-fsnative_hemi-R_desc-denoised_bold.npy\n",
      "(339716, 220)\n"
     ]
    },
    {
     "name": "stderr",
     "output_type": "stream",
     "text": [
      "invalid value encountered in divide\n"
     ]
    },
    {
     "name": "stdout",
     "output_type": "stream",
     "text": [
      "confoundsfile:  /data1/projects/Meman1/projects/pilot/derivatives/fmriprep/sub-007/ses-2/func/sub-007_ses-2_task-2R_run-6_desc-confounds_timeseries.tsv\n",
      "/data1/projects/Meman1/projects/pilot/derivatives/pybest/sub-007/ses-3/unzscored\n",
      "hemi_L: /data1/projects/Meman1/projects/pilot/derivatives/pybest/sub-007/ses-3/unzscored/sub-007_ses-3_task-2R_run-1_space-fsnative_hemi-L_desc-denoised_bold.npy\n",
      "hemi_R: /data1/projects/Meman1/projects/pilot/derivatives/pybest/sub-007/ses-3/unzscored/sub-007_ses-3_task-2R_run-1_space-fsnative_hemi-R_desc-denoised_bold.npy\n",
      "(339716, 220)\n"
     ]
    },
    {
     "name": "stderr",
     "output_type": "stream",
     "text": [
      "invalid value encountered in divide\n"
     ]
    },
    {
     "name": "stdout",
     "output_type": "stream",
     "text": [
      "confoundsfile:  /data1/projects/Meman1/projects/pilot/derivatives/fmriprep/sub-007/ses-3/func/sub-007_ses-3_task-2R_run-1_desc-confounds_timeseries.tsv\n",
      "hemi_L: /data1/projects/Meman1/projects/pilot/derivatives/pybest/sub-007/ses-3/unzscored/sub-007_ses-3_task-2R_run-2_space-fsnative_hemi-L_desc-denoised_bold.npy\n",
      "hemi_R: /data1/projects/Meman1/projects/pilot/derivatives/pybest/sub-007/ses-3/unzscored/sub-007_ses-3_task-2R_run-2_space-fsnative_hemi-R_desc-denoised_bold.npy\n",
      "(339716, 220)\n"
     ]
    },
    {
     "name": "stderr",
     "output_type": "stream",
     "text": [
      "invalid value encountered in divide\n"
     ]
    },
    {
     "name": "stdout",
     "output_type": "stream",
     "text": [
      "confoundsfile:  /data1/projects/Meman1/projects/pilot/derivatives/fmriprep/sub-007/ses-3/func/sub-007_ses-3_task-2R_run-2_desc-confounds_timeseries.tsv\n",
      "hemi_L: /data1/projects/Meman1/projects/pilot/derivatives/pybest/sub-007/ses-3/unzscored/sub-007_ses-3_task-2R_run-3_space-fsnative_hemi-L_desc-denoised_bold.npy\n",
      "hemi_R: /data1/projects/Meman1/projects/pilot/derivatives/pybest/sub-007/ses-3/unzscored/sub-007_ses-3_task-2R_run-3_space-fsnative_hemi-R_desc-denoised_bold.npy\n",
      "(339716, 220)\n"
     ]
    },
    {
     "name": "stderr",
     "output_type": "stream",
     "text": [
      "invalid value encountered in divide\n"
     ]
    },
    {
     "name": "stdout",
     "output_type": "stream",
     "text": [
      "confoundsfile:  /data1/projects/Meman1/projects/pilot/derivatives/fmriprep/sub-007/ses-3/func/sub-007_ses-3_task-2R_run-3_desc-confounds_timeseries.tsv\n",
      "hemi_L: /data1/projects/Meman1/projects/pilot/derivatives/pybest/sub-007/ses-3/unzscored/sub-007_ses-3_task-2R_run-4_space-fsnative_hemi-L_desc-denoised_bold.npy\n",
      "hemi_R: /data1/projects/Meman1/projects/pilot/derivatives/pybest/sub-007/ses-3/unzscored/sub-007_ses-3_task-2R_run-4_space-fsnative_hemi-R_desc-denoised_bold.npy\n",
      "(339716, 220)\n"
     ]
    },
    {
     "name": "stderr",
     "output_type": "stream",
     "text": [
      "invalid value encountered in divide\n"
     ]
    },
    {
     "name": "stdout",
     "output_type": "stream",
     "text": [
      "confoundsfile:  /data1/projects/Meman1/projects/pilot/derivatives/fmriprep/sub-007/ses-3/func/sub-007_ses-3_task-2R_run-4_desc-confounds_timeseries.tsv\n",
      "hemi_L: /data1/projects/Meman1/projects/pilot/derivatives/pybest/sub-007/ses-3/unzscored/sub-007_ses-3_task-2R_run-5_space-fsnative_hemi-L_desc-denoised_bold.npy\n",
      "hemi_R: /data1/projects/Meman1/projects/pilot/derivatives/pybest/sub-007/ses-3/unzscored/sub-007_ses-3_task-2R_run-5_space-fsnative_hemi-R_desc-denoised_bold.npy\n",
      "(339716, 220)\n"
     ]
    },
    {
     "name": "stderr",
     "output_type": "stream",
     "text": [
      "invalid value encountered in divide\n"
     ]
    },
    {
     "name": "stdout",
     "output_type": "stream",
     "text": [
      "confoundsfile:  /data1/projects/Meman1/projects/pilot/derivatives/fmriprep/sub-007/ses-3/func/sub-007_ses-3_task-2R_run-5_desc-confounds_timeseries.tsv\n",
      "hemi_L: /data1/projects/Meman1/projects/pilot/derivatives/pybest/sub-007/ses-3/unzscored/sub-007_ses-3_task-2R_run-6_space-fsnative_hemi-L_desc-denoised_bold.npy\n",
      "hemi_R: /data1/projects/Meman1/projects/pilot/derivatives/pybest/sub-007/ses-3/unzscored/sub-007_ses-3_task-2R_run-6_space-fsnative_hemi-R_desc-denoised_bold.npy\n",
      "(339716, 220)\n"
     ]
    },
    {
     "name": "stderr",
     "output_type": "stream",
     "text": [
      "invalid value encountered in divide\n"
     ]
    },
    {
     "name": "stdout",
     "output_type": "stream",
     "text": [
      "confoundsfile:  /data1/projects/Meman1/projects/pilot/derivatives/fmriprep/sub-007/ses-3/func/sub-007_ses-3_task-2R_run-6_desc-confounds_timeseries.tsv\n",
      "/data1/projects/Meman1/projects/pilot/derivatives/pybest/sub-008/ses-2/unzscored\n",
      "hemi_L: /data1/projects/Meman1/projects/pilot/derivatives/pybest/sub-008/ses-2/unzscored/sub-008_ses-2_task-2R_run-1_space-fsnative_hemi-L_desc-denoised_bold.npy\n",
      "hemi_R: /data1/projects/Meman1/projects/pilot/derivatives/pybest/sub-008/ses-2/unzscored/sub-008_ses-2_task-2R_run-1_space-fsnative_hemi-R_desc-denoised_bold.npy\n",
      "(325759, 220)\n"
     ]
    },
    {
     "name": "stderr",
     "output_type": "stream",
     "text": [
      "invalid value encountered in divide\n"
     ]
    },
    {
     "name": "stdout",
     "output_type": "stream",
     "text": [
      "confoundsfile:  /data1/projects/Meman1/projects/pilot/derivatives/fmriprep/sub-008/ses-2/func/sub-008_ses-2_task-2R_run-1_desc-confounds_timeseries.tsv\n",
      "hemi_L: /data1/projects/Meman1/projects/pilot/derivatives/pybest/sub-008/ses-2/unzscored/sub-008_ses-2_task-2R_run-2_space-fsnative_hemi-L_desc-denoised_bold.npy\n",
      "hemi_R: /data1/projects/Meman1/projects/pilot/derivatives/pybest/sub-008/ses-2/unzscored/sub-008_ses-2_task-2R_run-2_space-fsnative_hemi-R_desc-denoised_bold.npy\n",
      "(325759, 220)\n"
     ]
    },
    {
     "name": "stderr",
     "output_type": "stream",
     "text": [
      "invalid value encountered in divide\n"
     ]
    },
    {
     "name": "stdout",
     "output_type": "stream",
     "text": [
      "confoundsfile:  /data1/projects/Meman1/projects/pilot/derivatives/fmriprep/sub-008/ses-2/func/sub-008_ses-2_task-2R_run-2_desc-confounds_timeseries.tsv\n",
      "hemi_L: /data1/projects/Meman1/projects/pilot/derivatives/pybest/sub-008/ses-2/unzscored/sub-008_ses-2_task-2R_run-3_space-fsnative_hemi-L_desc-denoised_bold.npy\n",
      "hemi_R: /data1/projects/Meman1/projects/pilot/derivatives/pybest/sub-008/ses-2/unzscored/sub-008_ses-2_task-2R_run-3_space-fsnative_hemi-R_desc-denoised_bold.npy\n",
      "(325759, 220)\n"
     ]
    },
    {
     "name": "stderr",
     "output_type": "stream",
     "text": [
      "invalid value encountered in divide\n"
     ]
    },
    {
     "name": "stdout",
     "output_type": "stream",
     "text": [
      "confoundsfile:  /data1/projects/Meman1/projects/pilot/derivatives/fmriprep/sub-008/ses-2/func/sub-008_ses-2_task-2R_run-3_desc-confounds_timeseries.tsv\n",
      "hemi_L: /data1/projects/Meman1/projects/pilot/derivatives/pybest/sub-008/ses-2/unzscored/sub-008_ses-2_task-2R_run-4_space-fsnative_hemi-L_desc-denoised_bold.npy\n",
      "hemi_R: /data1/projects/Meman1/projects/pilot/derivatives/pybest/sub-008/ses-2/unzscored/sub-008_ses-2_task-2R_run-4_space-fsnative_hemi-R_desc-denoised_bold.npy\n",
      "(325759, 220)\n"
     ]
    },
    {
     "name": "stderr",
     "output_type": "stream",
     "text": [
      "invalid value encountered in divide\n"
     ]
    },
    {
     "name": "stdout",
     "output_type": "stream",
     "text": [
      "confoundsfile:  /data1/projects/Meman1/projects/pilot/derivatives/fmriprep/sub-008/ses-2/func/sub-008_ses-2_task-2R_run-4_desc-confounds_timeseries.tsv\n",
      "hemi_L: /data1/projects/Meman1/projects/pilot/derivatives/pybest/sub-008/ses-2/unzscored/sub-008_ses-2_task-2R_run-5_space-fsnative_hemi-L_desc-denoised_bold.npy\n",
      "hemi_R: /data1/projects/Meman1/projects/pilot/derivatives/pybest/sub-008/ses-2/unzscored/sub-008_ses-2_task-2R_run-5_space-fsnative_hemi-R_desc-denoised_bold.npy\n",
      "(325759, 220)\n"
     ]
    },
    {
     "name": "stderr",
     "output_type": "stream",
     "text": [
      "invalid value encountered in divide\n"
     ]
    },
    {
     "name": "stdout",
     "output_type": "stream",
     "text": [
      "confoundsfile:  /data1/projects/Meman1/projects/pilot/derivatives/fmriprep/sub-008/ses-2/func/sub-008_ses-2_task-2R_run-5_desc-confounds_timeseries.tsv\n",
      "hemi_L: /data1/projects/Meman1/projects/pilot/derivatives/pybest/sub-008/ses-2/unzscored/sub-008_ses-2_task-2R_run-6_space-fsnative_hemi-L_desc-denoised_bold.npy\n",
      "hemi_R: /data1/projects/Meman1/projects/pilot/derivatives/pybest/sub-008/ses-2/unzscored/sub-008_ses-2_task-2R_run-6_space-fsnative_hemi-R_desc-denoised_bold.npy\n",
      "(325759, 220)\n"
     ]
    },
    {
     "name": "stderr",
     "output_type": "stream",
     "text": [
      "invalid value encountered in divide\n"
     ]
    },
    {
     "name": "stdout",
     "output_type": "stream",
     "text": [
      "confoundsfile:  /data1/projects/Meman1/projects/pilot/derivatives/fmriprep/sub-008/ses-2/func/sub-008_ses-2_task-2R_run-6_desc-confounds_timeseries.tsv\n",
      "/data1/projects/Meman1/projects/pilot/derivatives/pybest/sub-008/ses-3/unzscored\n",
      "hemi_L: /data1/projects/Meman1/projects/pilot/derivatives/pybest/sub-008/ses-3/unzscored/sub-008_ses-3_task-2R_run-1_space-fsnative_hemi-L_desc-denoised_bold.npy\n",
      "hemi_R: /data1/projects/Meman1/projects/pilot/derivatives/pybest/sub-008/ses-3/unzscored/sub-008_ses-3_task-2R_run-1_space-fsnative_hemi-R_desc-denoised_bold.npy\n",
      "(325759, 220)\n"
     ]
    },
    {
     "name": "stderr",
     "output_type": "stream",
     "text": [
      "invalid value encountered in divide\n"
     ]
    },
    {
     "name": "stdout",
     "output_type": "stream",
     "text": [
      "confoundsfile:  /data1/projects/Meman1/projects/pilot/derivatives/fmriprep/sub-008/ses-3/func/sub-008_ses-3_task-2R_run-1_desc-confounds_timeseries.tsv\n",
      "hemi_L: /data1/projects/Meman1/projects/pilot/derivatives/pybest/sub-008/ses-3/unzscored/sub-008_ses-3_task-2R_run-2_space-fsnative_hemi-L_desc-denoised_bold.npy\n",
      "hemi_R: /data1/projects/Meman1/projects/pilot/derivatives/pybest/sub-008/ses-3/unzscored/sub-008_ses-3_task-2R_run-2_space-fsnative_hemi-R_desc-denoised_bold.npy\n",
      "(325759, 220)\n"
     ]
    },
    {
     "name": "stderr",
     "output_type": "stream",
     "text": [
      "invalid value encountered in divide\n"
     ]
    },
    {
     "name": "stdout",
     "output_type": "stream",
     "text": [
      "confoundsfile:  /data1/projects/Meman1/projects/pilot/derivatives/fmriprep/sub-008/ses-3/func/sub-008_ses-3_task-2R_run-2_desc-confounds_timeseries.tsv\n",
      "hemi_L: /data1/projects/Meman1/projects/pilot/derivatives/pybest/sub-008/ses-3/unzscored/sub-008_ses-3_task-2R_run-3_space-fsnative_hemi-L_desc-denoised_bold.npy\n",
      "hemi_R: /data1/projects/Meman1/projects/pilot/derivatives/pybest/sub-008/ses-3/unzscored/sub-008_ses-3_task-2R_run-3_space-fsnative_hemi-R_desc-denoised_bold.npy\n",
      "(325759, 220)\n"
     ]
    },
    {
     "name": "stderr",
     "output_type": "stream",
     "text": [
      "invalid value encountered in divide\n"
     ]
    },
    {
     "name": "stdout",
     "output_type": "stream",
     "text": [
      "confoundsfile:  /data1/projects/Meman1/projects/pilot/derivatives/fmriprep/sub-008/ses-3/func/sub-008_ses-3_task-2R_run-3_desc-confounds_timeseries.tsv\n",
      "hemi_L: /data1/projects/Meman1/projects/pilot/derivatives/pybest/sub-008/ses-3/unzscored/sub-008_ses-3_task-2R_run-4_space-fsnative_hemi-L_desc-denoised_bold.npy\n",
      "hemi_R: /data1/projects/Meman1/projects/pilot/derivatives/pybest/sub-008/ses-3/unzscored/sub-008_ses-3_task-2R_run-4_space-fsnative_hemi-R_desc-denoised_bold.npy\n",
      "(325759, 220)\n"
     ]
    },
    {
     "name": "stderr",
     "output_type": "stream",
     "text": [
      "invalid value encountered in divide\n"
     ]
    },
    {
     "name": "stdout",
     "output_type": "stream",
     "text": [
      "confoundsfile:  /data1/projects/Meman1/projects/pilot/derivatives/fmriprep/sub-008/ses-3/func/sub-008_ses-3_task-2R_run-4_desc-confounds_timeseries.tsv\n",
      "hemi_L: /data1/projects/Meman1/projects/pilot/derivatives/pybest/sub-008/ses-3/unzscored/sub-008_ses-3_task-2R_run-5_space-fsnative_hemi-L_desc-denoised_bold.npy\n",
      "hemi_R: /data1/projects/Meman1/projects/pilot/derivatives/pybest/sub-008/ses-3/unzscored/sub-008_ses-3_task-2R_run-5_space-fsnative_hemi-R_desc-denoised_bold.npy\n",
      "(325759, 220)\n"
     ]
    },
    {
     "name": "stderr",
     "output_type": "stream",
     "text": [
      "invalid value encountered in divide\n"
     ]
    },
    {
     "name": "stdout",
     "output_type": "stream",
     "text": [
      "confoundsfile:  /data1/projects/Meman1/projects/pilot/derivatives/fmriprep/sub-008/ses-3/func/sub-008_ses-3_task-2R_run-5_desc-confounds_timeseries.tsv\n",
      "hemi_L: /data1/projects/Meman1/projects/pilot/derivatives/pybest/sub-008/ses-3/unzscored/sub-008_ses-3_task-2R_run-6_space-fsnative_hemi-L_desc-denoised_bold.npy\n",
      "hemi_R: /data1/projects/Meman1/projects/pilot/derivatives/pybest/sub-008/ses-3/unzscored/sub-008_ses-3_task-2R_run-6_space-fsnative_hemi-R_desc-denoised_bold.npy\n",
      "(325759, 220)\n"
     ]
    },
    {
     "name": "stderr",
     "output_type": "stream",
     "text": [
      "invalid value encountered in divide\n"
     ]
    },
    {
     "name": "stdout",
     "output_type": "stream",
     "text": [
      "confoundsfile:  /data1/projects/Meman1/projects/pilot/derivatives/fmriprep/sub-008/ses-3/func/sub-008_ses-3_task-2R_run-6_desc-confounds_timeseries.tsv\n",
      "/data1/projects/Meman1/projects/pilot/derivatives/pybest/sub-010/ses-2/unzscored\n",
      "hemi_L: /data1/projects/Meman1/projects/pilot/derivatives/pybest/sub-010/ses-2/unzscored/sub-010_ses-2_task-2R_run-1_space-fsnative_hemi-L_desc-denoised_bold.npy\n",
      "hemi_R: /data1/projects/Meman1/projects/pilot/derivatives/pybest/sub-010/ses-2/unzscored/sub-010_ses-2_task-2R_run-1_space-fsnative_hemi-R_desc-denoised_bold.npy\n",
      "(322364, 220)\n"
     ]
    },
    {
     "name": "stderr",
     "output_type": "stream",
     "text": [
      "invalid value encountered in divide\n"
     ]
    },
    {
     "name": "stdout",
     "output_type": "stream",
     "text": [
      "confoundsfile:  /data1/projects/Meman1/projects/pilot/derivatives/fmriprep/sub-010/ses-2/func/sub-010_ses-2_task-2R_run-1_desc-confounds_timeseries.tsv\n",
      "hemi_L: /data1/projects/Meman1/projects/pilot/derivatives/pybest/sub-010/ses-2/unzscored/sub-010_ses-2_task-2R_run-2_space-fsnative_hemi-L_desc-denoised_bold.npy\n",
      "hemi_R: /data1/projects/Meman1/projects/pilot/derivatives/pybest/sub-010/ses-2/unzscored/sub-010_ses-2_task-2R_run-2_space-fsnative_hemi-R_desc-denoised_bold.npy\n",
      "(322364, 220)\n"
     ]
    },
    {
     "name": "stderr",
     "output_type": "stream",
     "text": [
      "invalid value encountered in divide\n"
     ]
    },
    {
     "name": "stdout",
     "output_type": "stream",
     "text": [
      "confoundsfile:  /data1/projects/Meman1/projects/pilot/derivatives/fmriprep/sub-010/ses-2/func/sub-010_ses-2_task-2R_run-2_desc-confounds_timeseries.tsv\n",
      "hemi_L: /data1/projects/Meman1/projects/pilot/derivatives/pybest/sub-010/ses-2/unzscored/sub-010_ses-2_task-2R_run-3_space-fsnative_hemi-L_desc-denoised_bold.npy\n",
      "hemi_R: /data1/projects/Meman1/projects/pilot/derivatives/pybest/sub-010/ses-2/unzscored/sub-010_ses-2_task-2R_run-3_space-fsnative_hemi-R_desc-denoised_bold.npy\n",
      "(322364, 220)\n"
     ]
    },
    {
     "name": "stderr",
     "output_type": "stream",
     "text": [
      "invalid value encountered in divide\n"
     ]
    },
    {
     "name": "stdout",
     "output_type": "stream",
     "text": [
      "confoundsfile:  /data1/projects/Meman1/projects/pilot/derivatives/fmriprep/sub-010/ses-2/func/sub-010_ses-2_task-2R_run-3_desc-confounds_timeseries.tsv\n",
      "hemi_L: /data1/projects/Meman1/projects/pilot/derivatives/pybest/sub-010/ses-2/unzscored/sub-010_ses-2_task-2R_run-4_space-fsnative_hemi-L_desc-denoised_bold.npy\n",
      "hemi_R: /data1/projects/Meman1/projects/pilot/derivatives/pybest/sub-010/ses-2/unzscored/sub-010_ses-2_task-2R_run-4_space-fsnative_hemi-R_desc-denoised_bold.npy\n",
      "(322364, 220)\n"
     ]
    },
    {
     "name": "stderr",
     "output_type": "stream",
     "text": [
      "invalid value encountered in divide\n"
     ]
    },
    {
     "name": "stdout",
     "output_type": "stream",
     "text": [
      "confoundsfile:  /data1/projects/Meman1/projects/pilot/derivatives/fmriprep/sub-010/ses-2/func/sub-010_ses-2_task-2R_run-4_desc-confounds_timeseries.tsv\n",
      "hemi_L: /data1/projects/Meman1/projects/pilot/derivatives/pybest/sub-010/ses-2/unzscored/sub-010_ses-2_task-2R_run-5_space-fsnative_hemi-L_desc-denoised_bold.npy\n",
      "hemi_R: /data1/projects/Meman1/projects/pilot/derivatives/pybest/sub-010/ses-2/unzscored/sub-010_ses-2_task-2R_run-5_space-fsnative_hemi-R_desc-denoised_bold.npy\n",
      "(322364, 220)\n"
     ]
    },
    {
     "name": "stderr",
     "output_type": "stream",
     "text": [
      "invalid value encountered in divide\n"
     ]
    },
    {
     "name": "stdout",
     "output_type": "stream",
     "text": [
      "confoundsfile:  /data1/projects/Meman1/projects/pilot/derivatives/fmriprep/sub-010/ses-2/func/sub-010_ses-2_task-2R_run-5_desc-confounds_timeseries.tsv\n",
      "hemi_L: /data1/projects/Meman1/projects/pilot/derivatives/pybest/sub-010/ses-2/unzscored/sub-010_ses-2_task-2R_run-6_space-fsnative_hemi-L_desc-denoised_bold.npy\n",
      "hemi_R: /data1/projects/Meman1/projects/pilot/derivatives/pybest/sub-010/ses-2/unzscored/sub-010_ses-2_task-2R_run-6_space-fsnative_hemi-R_desc-denoised_bold.npy\n",
      "(322364, 220)\n"
     ]
    },
    {
     "name": "stderr",
     "output_type": "stream",
     "text": [
      "invalid value encountered in divide\n"
     ]
    },
    {
     "name": "stdout",
     "output_type": "stream",
     "text": [
      "confoundsfile:  /data1/projects/Meman1/projects/pilot/derivatives/fmriprep/sub-010/ses-2/func/sub-010_ses-2_task-2R_run-6_desc-confounds_timeseries.tsv\n",
      "/data1/projects/Meman1/projects/pilot/derivatives/pybest/sub-010/ses-3/unzscored\n",
      "hemi_L: /data1/projects/Meman1/projects/pilot/derivatives/pybest/sub-010/ses-3/unzscored/sub-010_ses-3_task-2R_run-1_space-fsnative_hemi-L_desc-denoised_bold.npy\n",
      "hemi_R: /data1/projects/Meman1/projects/pilot/derivatives/pybest/sub-010/ses-3/unzscored/sub-010_ses-3_task-2R_run-1_space-fsnative_hemi-R_desc-denoised_bold.npy\n",
      "(322364, 220)\n"
     ]
    },
    {
     "name": "stderr",
     "output_type": "stream",
     "text": [
      "invalid value encountered in divide\n"
     ]
    },
    {
     "name": "stdout",
     "output_type": "stream",
     "text": [
      "confoundsfile:  /data1/projects/Meman1/projects/pilot/derivatives/fmriprep/sub-010/ses-3/func/sub-010_ses-3_task-2R_run-1_desc-confounds_timeseries.tsv\n",
      "hemi_L: /data1/projects/Meman1/projects/pilot/derivatives/pybest/sub-010/ses-3/unzscored/sub-010_ses-3_task-2R_run-2_space-fsnative_hemi-L_desc-denoised_bold.npy\n",
      "hemi_R: /data1/projects/Meman1/projects/pilot/derivatives/pybest/sub-010/ses-3/unzscored/sub-010_ses-3_task-2R_run-2_space-fsnative_hemi-R_desc-denoised_bold.npy\n",
      "(322364, 220)\n"
     ]
    },
    {
     "name": "stderr",
     "output_type": "stream",
     "text": [
      "invalid value encountered in divide\n"
     ]
    },
    {
     "name": "stdout",
     "output_type": "stream",
     "text": [
      "confoundsfile:  /data1/projects/Meman1/projects/pilot/derivatives/fmriprep/sub-010/ses-3/func/sub-010_ses-3_task-2R_run-2_desc-confounds_timeseries.tsv\n",
      "hemi_L: /data1/projects/Meman1/projects/pilot/derivatives/pybest/sub-010/ses-3/unzscored/sub-010_ses-3_task-2R_run-3_space-fsnative_hemi-L_desc-denoised_bold.npy\n",
      "hemi_R: /data1/projects/Meman1/projects/pilot/derivatives/pybest/sub-010/ses-3/unzscored/sub-010_ses-3_task-2R_run-3_space-fsnative_hemi-R_desc-denoised_bold.npy\n",
      "(322364, 220)\n"
     ]
    },
    {
     "name": "stderr",
     "output_type": "stream",
     "text": [
      "invalid value encountered in divide\n"
     ]
    },
    {
     "name": "stdout",
     "output_type": "stream",
     "text": [
      "confoundsfile:  /data1/projects/Meman1/projects/pilot/derivatives/fmriprep/sub-010/ses-3/func/sub-010_ses-3_task-2R_run-3_desc-confounds_timeseries.tsv\n",
      "hemi_L: /data1/projects/Meman1/projects/pilot/derivatives/pybest/sub-010/ses-3/unzscored/sub-010_ses-3_task-2R_run-4_space-fsnative_hemi-L_desc-denoised_bold.npy\n",
      "hemi_R: /data1/projects/Meman1/projects/pilot/derivatives/pybest/sub-010/ses-3/unzscored/sub-010_ses-3_task-2R_run-4_space-fsnative_hemi-R_desc-denoised_bold.npy\n",
      "(322364, 220)\n"
     ]
    },
    {
     "name": "stderr",
     "output_type": "stream",
     "text": [
      "invalid value encountered in divide\n"
     ]
    },
    {
     "name": "stdout",
     "output_type": "stream",
     "text": [
      "confoundsfile:  /data1/projects/Meman1/projects/pilot/derivatives/fmriprep/sub-010/ses-3/func/sub-010_ses-3_task-2R_run-4_desc-confounds_timeseries.tsv\n",
      "hemi_L: /data1/projects/Meman1/projects/pilot/derivatives/pybest/sub-010/ses-3/unzscored/sub-010_ses-3_task-2R_run-5_space-fsnative_hemi-L_desc-denoised_bold.npy\n",
      "hemi_R: /data1/projects/Meman1/projects/pilot/derivatives/pybest/sub-010/ses-3/unzscored/sub-010_ses-3_task-2R_run-5_space-fsnative_hemi-R_desc-denoised_bold.npy\n",
      "(322364, 220)\n"
     ]
    },
    {
     "name": "stderr",
     "output_type": "stream",
     "text": [
      "invalid value encountered in divide\n"
     ]
    },
    {
     "name": "stdout",
     "output_type": "stream",
     "text": [
      "confoundsfile:  /data1/projects/Meman1/projects/pilot/derivatives/fmriprep/sub-010/ses-3/func/sub-010_ses-3_task-2R_run-5_desc-confounds_timeseries.tsv\n",
      "hemi_L: /data1/projects/Meman1/projects/pilot/derivatives/pybest/sub-010/ses-3/unzscored/sub-010_ses-3_task-2R_run-6_space-fsnative_hemi-L_desc-denoised_bold.npy\n",
      "hemi_R: /data1/projects/Meman1/projects/pilot/derivatives/pybest/sub-010/ses-3/unzscored/sub-010_ses-3_task-2R_run-6_space-fsnative_hemi-R_desc-denoised_bold.npy\n",
      "(322364, 220)\n"
     ]
    },
    {
     "name": "stderr",
     "output_type": "stream",
     "text": [
      "invalid value encountered in divide\n"
     ]
    },
    {
     "name": "stdout",
     "output_type": "stream",
     "text": [
      "confoundsfile:  /data1/projects/Meman1/projects/pilot/derivatives/fmriprep/sub-010/ses-3/func/sub-010_ses-3_task-2R_run-6_desc-confounds_timeseries.tsv\n",
      "/data1/projects/Meman1/projects/pilot/derivatives/pybest/sub-012/ses-2/unzscored\n",
      "hemi_L: /data1/projects/Meman1/projects/pilot/derivatives/pybest/sub-012/ses-2/unzscored/sub-012_ses-2_task-2R_run-2_space-fsnative_hemi-L_desc-denoised_bold.npy\n",
      "hemi_R: /data1/projects/Meman1/projects/pilot/derivatives/pybest/sub-012/ses-2/unzscored/sub-012_ses-2_task-2R_run-2_space-fsnative_hemi-R_desc-denoised_bold.npy\n",
      "(342051, 220)\n"
     ]
    },
    {
     "name": "stderr",
     "output_type": "stream",
     "text": [
      "invalid value encountered in divide\n"
     ]
    },
    {
     "name": "stdout",
     "output_type": "stream",
     "text": [
      "confoundsfile:  /data1/projects/Meman1/projects/pilot/derivatives/fmriprep/sub-012/ses-2/func/sub-012_ses-2_task-2R_run-2_desc-confounds_timeseries.tsv\n",
      "hemi_L: /data1/projects/Meman1/projects/pilot/derivatives/pybest/sub-012/ses-2/unzscored/sub-012_ses-2_task-2R_run-3_space-fsnative_hemi-L_desc-denoised_bold.npy\n",
      "hemi_R: /data1/projects/Meman1/projects/pilot/derivatives/pybest/sub-012/ses-2/unzscored/sub-012_ses-2_task-2R_run-3_space-fsnative_hemi-R_desc-denoised_bold.npy\n",
      "(342051, 220)\n"
     ]
    },
    {
     "name": "stderr",
     "output_type": "stream",
     "text": [
      "invalid value encountered in divide\n"
     ]
    },
    {
     "name": "stdout",
     "output_type": "stream",
     "text": [
      "confoundsfile:  /data1/projects/Meman1/projects/pilot/derivatives/fmriprep/sub-012/ses-2/func/sub-012_ses-2_task-2R_run-3_desc-confounds_timeseries.tsv\n",
      "hemi_L: /data1/projects/Meman1/projects/pilot/derivatives/pybest/sub-012/ses-2/unzscored/sub-012_ses-2_task-2R_run-4_space-fsnative_hemi-L_desc-denoised_bold.npy\n",
      "hemi_R: /data1/projects/Meman1/projects/pilot/derivatives/pybest/sub-012/ses-2/unzscored/sub-012_ses-2_task-2R_run-4_space-fsnative_hemi-R_desc-denoised_bold.npy\n",
      "(342051, 220)\n"
     ]
    },
    {
     "name": "stderr",
     "output_type": "stream",
     "text": [
      "invalid value encountered in divide\n"
     ]
    },
    {
     "name": "stdout",
     "output_type": "stream",
     "text": [
      "confoundsfile:  /data1/projects/Meman1/projects/pilot/derivatives/fmriprep/sub-012/ses-2/func/sub-012_ses-2_task-2R_run-4_desc-confounds_timeseries.tsv\n",
      "hemi_L: /data1/projects/Meman1/projects/pilot/derivatives/pybest/sub-012/ses-2/unzscored/sub-012_ses-2_task-2R_run-5_space-fsnative_hemi-L_desc-denoised_bold.npy\n",
      "hemi_R: /data1/projects/Meman1/projects/pilot/derivatives/pybest/sub-012/ses-2/unzscored/sub-012_ses-2_task-2R_run-5_space-fsnative_hemi-R_desc-denoised_bold.npy\n",
      "(342051, 220)\n"
     ]
    },
    {
     "name": "stderr",
     "output_type": "stream",
     "text": [
      "invalid value encountered in divide\n"
     ]
    },
    {
     "name": "stdout",
     "output_type": "stream",
     "text": [
      "confoundsfile:  /data1/projects/Meman1/projects/pilot/derivatives/fmriprep/sub-012/ses-2/func/sub-012_ses-2_task-2R_run-5_desc-confounds_timeseries.tsv\n",
      "hemi_L: /data1/projects/Meman1/projects/pilot/derivatives/pybest/sub-012/ses-2/unzscored/sub-012_ses-2_task-2R_run-6_space-fsnative_hemi-L_desc-denoised_bold.npy\n",
      "hemi_R: /data1/projects/Meman1/projects/pilot/derivatives/pybest/sub-012/ses-2/unzscored/sub-012_ses-2_task-2R_run-6_space-fsnative_hemi-R_desc-denoised_bold.npy\n",
      "(342051, 220)\n"
     ]
    },
    {
     "name": "stderr",
     "output_type": "stream",
     "text": [
      "invalid value encountered in divide\n"
     ]
    },
    {
     "name": "stdout",
     "output_type": "stream",
     "text": [
      "confoundsfile:  /data1/projects/Meman1/projects/pilot/derivatives/fmriprep/sub-012/ses-2/func/sub-012_ses-2_task-2R_run-6_desc-confounds_timeseries.tsv\n",
      "hemi_L: /data1/projects/Meman1/projects/pilot/derivatives/pybest/sub-012/ses-2/unzscored/sub-012_ses-2_task-2R_run-7_space-fsnative_hemi-L_desc-denoised_bold.npy\n",
      "hemi_R: /data1/projects/Meman1/projects/pilot/derivatives/pybest/sub-012/ses-2/unzscored/sub-012_ses-2_task-2R_run-7_space-fsnative_hemi-R_desc-denoised_bold.npy\n",
      "(342051, 220)\n"
     ]
    },
    {
     "name": "stderr",
     "output_type": "stream",
     "text": [
      "invalid value encountered in divide\n"
     ]
    },
    {
     "name": "stdout",
     "output_type": "stream",
     "text": [
      "confoundsfile:  /data1/projects/Meman1/projects/pilot/derivatives/fmriprep/sub-012/ses-2/func/sub-012_ses-2_task-2R_run-7_desc-confounds_timeseries.tsv\n",
      "/data1/projects/Meman1/projects/pilot/derivatives/pybest/sub-012/ses-3/unzscored\n",
      "hemi_L: /data1/projects/Meman1/projects/pilot/derivatives/pybest/sub-012/ses-3/unzscored/sub-012_ses-3_task-2R_run-1_space-fsnative_hemi-L_desc-denoised_bold.npy\n",
      "hemi_R: /data1/projects/Meman1/projects/pilot/derivatives/pybest/sub-012/ses-3/unzscored/sub-012_ses-3_task-2R_run-1_space-fsnative_hemi-R_desc-denoised_bold.npy\n",
      "(342051, 220)\n"
     ]
    },
    {
     "name": "stderr",
     "output_type": "stream",
     "text": [
      "invalid value encountered in divide\n"
     ]
    },
    {
     "name": "stdout",
     "output_type": "stream",
     "text": [
      "confoundsfile:  /data1/projects/Meman1/projects/pilot/derivatives/fmriprep/sub-012/ses-3/func/sub-012_ses-3_task-2R_run-1_desc-confounds_timeseries.tsv\n",
      "hemi_L: /data1/projects/Meman1/projects/pilot/derivatives/pybest/sub-012/ses-3/unzscored/sub-012_ses-3_task-2R_run-2_space-fsnative_hemi-L_desc-denoised_bold.npy\n",
      "hemi_R: /data1/projects/Meman1/projects/pilot/derivatives/pybest/sub-012/ses-3/unzscored/sub-012_ses-3_task-2R_run-2_space-fsnative_hemi-R_desc-denoised_bold.npy\n",
      "(342051, 220)\n"
     ]
    },
    {
     "name": "stderr",
     "output_type": "stream",
     "text": [
      "invalid value encountered in divide\n"
     ]
    },
    {
     "name": "stdout",
     "output_type": "stream",
     "text": [
      "confoundsfile:  /data1/projects/Meman1/projects/pilot/derivatives/fmriprep/sub-012/ses-3/func/sub-012_ses-3_task-2R_run-2_desc-confounds_timeseries.tsv\n",
      "hemi_L: /data1/projects/Meman1/projects/pilot/derivatives/pybest/sub-012/ses-3/unzscored/sub-012_ses-3_task-2R_run-3_space-fsnative_hemi-L_desc-denoised_bold.npy\n",
      "hemi_R: /data1/projects/Meman1/projects/pilot/derivatives/pybest/sub-012/ses-3/unzscored/sub-012_ses-3_task-2R_run-3_space-fsnative_hemi-R_desc-denoised_bold.npy\n",
      "(342051, 220)\n"
     ]
    },
    {
     "name": "stderr",
     "output_type": "stream",
     "text": [
      "invalid value encountered in divide\n"
     ]
    },
    {
     "name": "stdout",
     "output_type": "stream",
     "text": [
      "confoundsfile:  /data1/projects/Meman1/projects/pilot/derivatives/fmriprep/sub-012/ses-3/func/sub-012_ses-3_task-2R_run-3_desc-confounds_timeseries.tsv\n",
      "hemi_L: /data1/projects/Meman1/projects/pilot/derivatives/pybest/sub-012/ses-3/unzscored/sub-012_ses-3_task-2R_run-4_space-fsnative_hemi-L_desc-denoised_bold.npy\n",
      "hemi_R: /data1/projects/Meman1/projects/pilot/derivatives/pybest/sub-012/ses-3/unzscored/sub-012_ses-3_task-2R_run-4_space-fsnative_hemi-R_desc-denoised_bold.npy\n",
      "(342051, 220)\n"
     ]
    },
    {
     "name": "stderr",
     "output_type": "stream",
     "text": [
      "invalid value encountered in divide\n"
     ]
    },
    {
     "name": "stdout",
     "output_type": "stream",
     "text": [
      "confoundsfile:  /data1/projects/Meman1/projects/pilot/derivatives/fmriprep/sub-012/ses-3/func/sub-012_ses-3_task-2R_run-4_desc-confounds_timeseries.tsv\n",
      "hemi_L: /data1/projects/Meman1/projects/pilot/derivatives/pybest/sub-012/ses-3/unzscored/sub-012_ses-3_task-2R_run-5_space-fsnative_hemi-L_desc-denoised_bold.npy\n",
      "hemi_R: /data1/projects/Meman1/projects/pilot/derivatives/pybest/sub-012/ses-3/unzscored/sub-012_ses-3_task-2R_run-5_space-fsnative_hemi-R_desc-denoised_bold.npy\n",
      "(342051, 220)\n"
     ]
    },
    {
     "name": "stderr",
     "output_type": "stream",
     "text": [
      "invalid value encountered in divide\n"
     ]
    },
    {
     "name": "stdout",
     "output_type": "stream",
     "text": [
      "confoundsfile:  /data1/projects/Meman1/projects/pilot/derivatives/fmriprep/sub-012/ses-3/func/sub-012_ses-3_task-2R_run-5_desc-confounds_timeseries.tsv\n",
      "hemi_L: /data1/projects/Meman1/projects/pilot/derivatives/pybest/sub-012/ses-3/unzscored/sub-012_ses-3_task-2R_run-6_space-fsnative_hemi-L_desc-denoised_bold.npy\n",
      "hemi_R: /data1/projects/Meman1/projects/pilot/derivatives/pybest/sub-012/ses-3/unzscored/sub-012_ses-3_task-2R_run-6_space-fsnative_hemi-R_desc-denoised_bold.npy\n",
      "(342051, 220)\n"
     ]
    },
    {
     "name": "stderr",
     "output_type": "stream",
     "text": [
      "invalid value encountered in divide\n"
     ]
    },
    {
     "name": "stdout",
     "output_type": "stream",
     "text": [
      "confoundsfile:  /data1/projects/Meman1/projects/pilot/derivatives/fmriprep/sub-012/ses-3/func/sub-012_ses-3_task-2R_run-6_desc-confounds_timeseries.tsv\n",
      "/data1/projects/Meman1/projects/pilot/derivatives/pybest/sub-013/ses-2/unzscored\n",
      "hemi_L: /data1/projects/Meman1/projects/pilot/derivatives/pybest/sub-013/ses-2/unzscored/sub-013_ses-2_task-2R_run-1_space-fsnative_hemi-L_desc-denoised_bold.npy\n",
      "hemi_R: /data1/projects/Meman1/projects/pilot/derivatives/pybest/sub-013/ses-2/unzscored/sub-013_ses-2_task-2R_run-1_space-fsnative_hemi-R_desc-denoised_bold.npy\n",
      "(324238, 220)\n"
     ]
    },
    {
     "name": "stderr",
     "output_type": "stream",
     "text": [
      "invalid value encountered in divide\n"
     ]
    },
    {
     "name": "stdout",
     "output_type": "stream",
     "text": [
      "confoundsfile:  /data1/projects/Meman1/projects/pilot/derivatives/fmriprep/sub-013/ses-2/func/sub-013_ses-2_task-2R_run-1_desc-confounds_timeseries.tsv\n",
      "hemi_L: /data1/projects/Meman1/projects/pilot/derivatives/pybest/sub-013/ses-2/unzscored/sub-013_ses-2_task-2R_run-2_space-fsnative_hemi-L_desc-denoised_bold.npy\n",
      "hemi_R: /data1/projects/Meman1/projects/pilot/derivatives/pybest/sub-013/ses-2/unzscored/sub-013_ses-2_task-2R_run-2_space-fsnative_hemi-R_desc-denoised_bold.npy\n",
      "(324238, 220)\n"
     ]
    },
    {
     "name": "stderr",
     "output_type": "stream",
     "text": [
      "invalid value encountered in divide\n"
     ]
    },
    {
     "name": "stdout",
     "output_type": "stream",
     "text": [
      "confoundsfile:  /data1/projects/Meman1/projects/pilot/derivatives/fmriprep/sub-013/ses-2/func/sub-013_ses-2_task-2R_run-2_desc-confounds_timeseries.tsv\n",
      "hemi_L: /data1/projects/Meman1/projects/pilot/derivatives/pybest/sub-013/ses-2/unzscored/sub-013_ses-2_task-2R_run-3_space-fsnative_hemi-L_desc-denoised_bold.npy\n",
      "hemi_R: /data1/projects/Meman1/projects/pilot/derivatives/pybest/sub-013/ses-2/unzscored/sub-013_ses-2_task-2R_run-3_space-fsnative_hemi-R_desc-denoised_bold.npy\n",
      "(324238, 220)\n"
     ]
    },
    {
     "name": "stderr",
     "output_type": "stream",
     "text": [
      "invalid value encountered in divide\n"
     ]
    },
    {
     "name": "stdout",
     "output_type": "stream",
     "text": [
      "confoundsfile:  /data1/projects/Meman1/projects/pilot/derivatives/fmriprep/sub-013/ses-2/func/sub-013_ses-2_task-2R_run-3_desc-confounds_timeseries.tsv\n",
      "hemi_L: /data1/projects/Meman1/projects/pilot/derivatives/pybest/sub-013/ses-2/unzscored/sub-013_ses-2_task-2R_run-4_space-fsnative_hemi-L_desc-denoised_bold.npy\n",
      "hemi_R: /data1/projects/Meman1/projects/pilot/derivatives/pybest/sub-013/ses-2/unzscored/sub-013_ses-2_task-2R_run-4_space-fsnative_hemi-R_desc-denoised_bold.npy\n",
      "(324238, 220)\n"
     ]
    },
    {
     "name": "stderr",
     "output_type": "stream",
     "text": [
      "invalid value encountered in divide\n"
     ]
    },
    {
     "name": "stdout",
     "output_type": "stream",
     "text": [
      "confoundsfile:  /data1/projects/Meman1/projects/pilot/derivatives/fmriprep/sub-013/ses-2/func/sub-013_ses-2_task-2R_run-4_desc-confounds_timeseries.tsv\n",
      "hemi_L: /data1/projects/Meman1/projects/pilot/derivatives/pybest/sub-013/ses-2/unzscored/sub-013_ses-2_task-2R_run-5_space-fsnative_hemi-L_desc-denoised_bold.npy\n",
      "hemi_R: /data1/projects/Meman1/projects/pilot/derivatives/pybest/sub-013/ses-2/unzscored/sub-013_ses-2_task-2R_run-5_space-fsnative_hemi-R_desc-denoised_bold.npy\n",
      "(324238, 220)\n"
     ]
    },
    {
     "name": "stderr",
     "output_type": "stream",
     "text": [
      "invalid value encountered in divide\n"
     ]
    },
    {
     "name": "stdout",
     "output_type": "stream",
     "text": [
      "confoundsfile:  /data1/projects/Meman1/projects/pilot/derivatives/fmriprep/sub-013/ses-2/func/sub-013_ses-2_task-2R_run-5_desc-confounds_timeseries.tsv\n",
      "hemi_L: /data1/projects/Meman1/projects/pilot/derivatives/pybest/sub-013/ses-2/unzscored/sub-013_ses-2_task-2R_run-6_space-fsnative_hemi-L_desc-denoised_bold.npy\n",
      "hemi_R: /data1/projects/Meman1/projects/pilot/derivatives/pybest/sub-013/ses-2/unzscored/sub-013_ses-2_task-2R_run-6_space-fsnative_hemi-R_desc-denoised_bold.npy\n",
      "(324238, 220)\n"
     ]
    },
    {
     "name": "stderr",
     "output_type": "stream",
     "text": [
      "invalid value encountered in divide\n"
     ]
    },
    {
     "name": "stdout",
     "output_type": "stream",
     "text": [
      "confoundsfile:  /data1/projects/Meman1/projects/pilot/derivatives/fmriprep/sub-013/ses-2/func/sub-013_ses-2_task-2R_run-6_desc-confounds_timeseries.tsv\n",
      "/data1/projects/Meman1/projects/pilot/derivatives/pybest/sub-013/ses-3/unzscored\n",
      "hemi_L: /data1/projects/Meman1/projects/pilot/derivatives/pybest/sub-013/ses-3/unzscored/sub-013_ses-3_task-2R_run-1_space-fsnative_hemi-L_desc-denoised_bold.npy\n",
      "hemi_R: /data1/projects/Meman1/projects/pilot/derivatives/pybest/sub-013/ses-3/unzscored/sub-013_ses-3_task-2R_run-1_space-fsnative_hemi-R_desc-denoised_bold.npy\n",
      "(324238, 220)\n"
     ]
    },
    {
     "name": "stderr",
     "output_type": "stream",
     "text": [
      "invalid value encountered in divide\n"
     ]
    },
    {
     "name": "stdout",
     "output_type": "stream",
     "text": [
      "confoundsfile:  /data1/projects/Meman1/projects/pilot/derivatives/fmriprep/sub-013/ses-3/func/sub-013_ses-3_task-2R_run-1_desc-confounds_timeseries.tsv\n",
      "hemi_L: /data1/projects/Meman1/projects/pilot/derivatives/pybest/sub-013/ses-3/unzscored/sub-013_ses-3_task-2R_run-2_space-fsnative_hemi-L_desc-denoised_bold.npy\n",
      "hemi_R: /data1/projects/Meman1/projects/pilot/derivatives/pybest/sub-013/ses-3/unzscored/sub-013_ses-3_task-2R_run-2_space-fsnative_hemi-R_desc-denoised_bold.npy\n",
      "(324238, 220)\n"
     ]
    },
    {
     "name": "stderr",
     "output_type": "stream",
     "text": [
      "invalid value encountered in divide\n"
     ]
    },
    {
     "name": "stdout",
     "output_type": "stream",
     "text": [
      "confoundsfile:  /data1/projects/Meman1/projects/pilot/derivatives/fmriprep/sub-013/ses-3/func/sub-013_ses-3_task-2R_run-2_desc-confounds_timeseries.tsv\n",
      "hemi_L: /data1/projects/Meman1/projects/pilot/derivatives/pybest/sub-013/ses-3/unzscored/sub-013_ses-3_task-2R_run-3_space-fsnative_hemi-L_desc-denoised_bold.npy\n",
      "hemi_R: /data1/projects/Meman1/projects/pilot/derivatives/pybest/sub-013/ses-3/unzscored/sub-013_ses-3_task-2R_run-3_space-fsnative_hemi-R_desc-denoised_bold.npy\n",
      "(324238, 220)\n"
     ]
    },
    {
     "name": "stderr",
     "output_type": "stream",
     "text": [
      "invalid value encountered in divide\n"
     ]
    },
    {
     "name": "stdout",
     "output_type": "stream",
     "text": [
      "confoundsfile:  /data1/projects/Meman1/projects/pilot/derivatives/fmriprep/sub-013/ses-3/func/sub-013_ses-3_task-2R_run-3_desc-confounds_timeseries.tsv\n",
      "hemi_L: /data1/projects/Meman1/projects/pilot/derivatives/pybest/sub-013/ses-3/unzscored/sub-013_ses-3_task-2R_run-4_space-fsnative_hemi-L_desc-denoised_bold.npy\n",
      "hemi_R: /data1/projects/Meman1/projects/pilot/derivatives/pybest/sub-013/ses-3/unzscored/sub-013_ses-3_task-2R_run-4_space-fsnative_hemi-R_desc-denoised_bold.npy\n",
      "(324238, 220)\n"
     ]
    },
    {
     "name": "stderr",
     "output_type": "stream",
     "text": [
      "invalid value encountered in divide\n"
     ]
    },
    {
     "name": "stdout",
     "output_type": "stream",
     "text": [
      "confoundsfile:  /data1/projects/Meman1/projects/pilot/derivatives/fmriprep/sub-013/ses-3/func/sub-013_ses-3_task-2R_run-4_desc-confounds_timeseries.tsv\n",
      "hemi_L: /data1/projects/Meman1/projects/pilot/derivatives/pybest/sub-013/ses-3/unzscored/sub-013_ses-3_task-2R_run-5_space-fsnative_hemi-L_desc-denoised_bold.npy\n",
      "hemi_R: /data1/projects/Meman1/projects/pilot/derivatives/pybest/sub-013/ses-3/unzscored/sub-013_ses-3_task-2R_run-5_space-fsnative_hemi-R_desc-denoised_bold.npy\n",
      "(324238, 220)\n"
     ]
    },
    {
     "name": "stderr",
     "output_type": "stream",
     "text": [
      "invalid value encountered in divide\n"
     ]
    },
    {
     "name": "stdout",
     "output_type": "stream",
     "text": [
      "confoundsfile:  /data1/projects/Meman1/projects/pilot/derivatives/fmriprep/sub-013/ses-3/func/sub-013_ses-3_task-2R_run-5_desc-confounds_timeseries.tsv\n",
      "hemi_L: /data1/projects/Meman1/projects/pilot/derivatives/pybest/sub-013/ses-3/unzscored/sub-013_ses-3_task-2R_run-6_space-fsnative_hemi-L_desc-denoised_bold.npy\n",
      "hemi_R: /data1/projects/Meman1/projects/pilot/derivatives/pybest/sub-013/ses-3/unzscored/sub-013_ses-3_task-2R_run-6_space-fsnative_hemi-R_desc-denoised_bold.npy\n",
      "(324238, 220)\n"
     ]
    },
    {
     "name": "stderr",
     "output_type": "stream",
     "text": [
      "divide by zero encountered in divide\n",
      "invalid value encountered in divide\n"
     ]
    },
    {
     "name": "stdout",
     "output_type": "stream",
     "text": [
      "confoundsfile:  /data1/projects/Meman1/projects/pilot/derivatives/fmriprep/sub-013/ses-3/func/sub-013_ses-3_task-2R_run-6_desc-confounds_timeseries.tsv\n",
      "/data1/projects/Meman1/projects/pilot/derivatives/pybest/sub-015/ses-2/unzscored\n",
      "hemi_L: /data1/projects/Meman1/projects/pilot/derivatives/pybest/sub-015/ses-2/unzscored/sub-015_ses-2_task-2R_run-1_space-fsnative_hemi-L_desc-denoised_bold.npy\n",
      "hemi_R: /data1/projects/Meman1/projects/pilot/derivatives/pybest/sub-015/ses-2/unzscored/sub-015_ses-2_task-2R_run-1_space-fsnative_hemi-R_desc-denoised_bold.npy\n",
      "(337647, 220)\n"
     ]
    },
    {
     "name": "stderr",
     "output_type": "stream",
     "text": [
      "invalid value encountered in divide\n"
     ]
    },
    {
     "name": "stdout",
     "output_type": "stream",
     "text": [
      "confoundsfile:  /data1/projects/Meman1/projects/pilot/derivatives/fmriprep/sub-015/ses-2/func/sub-015_ses-2_task-2R_run-1_desc-confounds_timeseries.tsv\n",
      "hemi_L: /data1/projects/Meman1/projects/pilot/derivatives/pybest/sub-015/ses-2/unzscored/sub-015_ses-2_task-2R_run-2_space-fsnative_hemi-L_desc-denoised_bold.npy\n",
      "hemi_R: /data1/projects/Meman1/projects/pilot/derivatives/pybest/sub-015/ses-2/unzscored/sub-015_ses-2_task-2R_run-2_space-fsnative_hemi-R_desc-denoised_bold.npy\n",
      "(337647, 220)\n"
     ]
    },
    {
     "name": "stderr",
     "output_type": "stream",
     "text": [
      "invalid value encountered in divide\n"
     ]
    },
    {
     "name": "stdout",
     "output_type": "stream",
     "text": [
      "confoundsfile:  /data1/projects/Meman1/projects/pilot/derivatives/fmriprep/sub-015/ses-2/func/sub-015_ses-2_task-2R_run-2_desc-confounds_timeseries.tsv\n",
      "hemi_L: /data1/projects/Meman1/projects/pilot/derivatives/pybest/sub-015/ses-2/unzscored/sub-015_ses-2_task-2R_run-3_space-fsnative_hemi-L_desc-denoised_bold.npy\n",
      "hemi_R: /data1/projects/Meman1/projects/pilot/derivatives/pybest/sub-015/ses-2/unzscored/sub-015_ses-2_task-2R_run-3_space-fsnative_hemi-R_desc-denoised_bold.npy\n",
      "(337647, 220)\n"
     ]
    },
    {
     "name": "stderr",
     "output_type": "stream",
     "text": [
      "invalid value encountered in divide\n"
     ]
    },
    {
     "name": "stdout",
     "output_type": "stream",
     "text": [
      "confoundsfile:  /data1/projects/Meman1/projects/pilot/derivatives/fmriprep/sub-015/ses-2/func/sub-015_ses-2_task-2R_run-3_desc-confounds_timeseries.tsv\n",
      "hemi_L: /data1/projects/Meman1/projects/pilot/derivatives/pybest/sub-015/ses-2/unzscored/sub-015_ses-2_task-2R_run-4_space-fsnative_hemi-L_desc-denoised_bold.npy\n",
      "hemi_R: /data1/projects/Meman1/projects/pilot/derivatives/pybest/sub-015/ses-2/unzscored/sub-015_ses-2_task-2R_run-4_space-fsnative_hemi-R_desc-denoised_bold.npy\n",
      "(337647, 220)\n"
     ]
    },
    {
     "name": "stderr",
     "output_type": "stream",
     "text": [
      "invalid value encountered in divide\n"
     ]
    },
    {
     "name": "stdout",
     "output_type": "stream",
     "text": [
      "confoundsfile:  /data1/projects/Meman1/projects/pilot/derivatives/fmriprep/sub-015/ses-2/func/sub-015_ses-2_task-2R_run-4_desc-confounds_timeseries.tsv\n",
      "hemi_L: /data1/projects/Meman1/projects/pilot/derivatives/pybest/sub-015/ses-2/unzscored/sub-015_ses-2_task-2R_run-5_space-fsnative_hemi-L_desc-denoised_bold.npy\n",
      "hemi_R: /data1/projects/Meman1/projects/pilot/derivatives/pybest/sub-015/ses-2/unzscored/sub-015_ses-2_task-2R_run-5_space-fsnative_hemi-R_desc-denoised_bold.npy\n",
      "(337647, 220)\n"
     ]
    },
    {
     "name": "stderr",
     "output_type": "stream",
     "text": [
      "invalid value encountered in divide\n"
     ]
    },
    {
     "name": "stdout",
     "output_type": "stream",
     "text": [
      "confoundsfile:  /data1/projects/Meman1/projects/pilot/derivatives/fmriprep/sub-015/ses-2/func/sub-015_ses-2_task-2R_run-5_desc-confounds_timeseries.tsv\n",
      "hemi_L: /data1/projects/Meman1/projects/pilot/derivatives/pybest/sub-015/ses-2/unzscored/sub-015_ses-2_task-2R_run-6_space-fsnative_hemi-L_desc-denoised_bold.npy\n",
      "hemi_R: /data1/projects/Meman1/projects/pilot/derivatives/pybest/sub-015/ses-2/unzscored/sub-015_ses-2_task-2R_run-6_space-fsnative_hemi-R_desc-denoised_bold.npy\n",
      "(337647, 220)\n"
     ]
    },
    {
     "name": "stderr",
     "output_type": "stream",
     "text": [
      "invalid value encountered in divide\n"
     ]
    },
    {
     "name": "stdout",
     "output_type": "stream",
     "text": [
      "confoundsfile:  /data1/projects/Meman1/projects/pilot/derivatives/fmriprep/sub-015/ses-2/func/sub-015_ses-2_task-2R_run-6_desc-confounds_timeseries.tsv\n",
      "/data1/projects/Meman1/projects/pilot/derivatives/pybest/sub-015/ses-3/unzscored\n",
      "hemi_L: /data1/projects/Meman1/projects/pilot/derivatives/pybest/sub-015/ses-3/unzscored/sub-015_ses-3_task-2R_run-1_space-fsnative_hemi-L_desc-denoised_bold.npy\n",
      "hemi_R: /data1/projects/Meman1/projects/pilot/derivatives/pybest/sub-015/ses-3/unzscored/sub-015_ses-3_task-2R_run-1_space-fsnative_hemi-R_desc-denoised_bold.npy\n",
      "(337647, 220)\n"
     ]
    },
    {
     "name": "stderr",
     "output_type": "stream",
     "text": [
      "invalid value encountered in divide\n"
     ]
    },
    {
     "name": "stdout",
     "output_type": "stream",
     "text": [
      "confoundsfile:  /data1/projects/Meman1/projects/pilot/derivatives/fmriprep/sub-015/ses-3/func/sub-015_ses-3_task-2R_run-1_desc-confounds_timeseries.tsv\n",
      "hemi_L: /data1/projects/Meman1/projects/pilot/derivatives/pybest/sub-015/ses-3/unzscored/sub-015_ses-3_task-2R_run-2_space-fsnative_hemi-L_desc-denoised_bold.npy\n",
      "hemi_R: /data1/projects/Meman1/projects/pilot/derivatives/pybest/sub-015/ses-3/unzscored/sub-015_ses-3_task-2R_run-2_space-fsnative_hemi-R_desc-denoised_bold.npy\n",
      "(337647, 220)\n"
     ]
    },
    {
     "name": "stderr",
     "output_type": "stream",
     "text": [
      "invalid value encountered in divide\n"
     ]
    },
    {
     "name": "stdout",
     "output_type": "stream",
     "text": [
      "confoundsfile:  /data1/projects/Meman1/projects/pilot/derivatives/fmriprep/sub-015/ses-3/func/sub-015_ses-3_task-2R_run-2_desc-confounds_timeseries.tsv\n",
      "hemi_L: /data1/projects/Meman1/projects/pilot/derivatives/pybest/sub-015/ses-3/unzscored/sub-015_ses-3_task-2R_run-3_space-fsnative_hemi-L_desc-denoised_bold.npy\n",
      "hemi_R: /data1/projects/Meman1/projects/pilot/derivatives/pybest/sub-015/ses-3/unzscored/sub-015_ses-3_task-2R_run-3_space-fsnative_hemi-R_desc-denoised_bold.npy\n",
      "(337647, 220)\n"
     ]
    },
    {
     "name": "stderr",
     "output_type": "stream",
     "text": [
      "invalid value encountered in divide\n"
     ]
    },
    {
     "name": "stdout",
     "output_type": "stream",
     "text": [
      "confoundsfile:  /data1/projects/Meman1/projects/pilot/derivatives/fmriprep/sub-015/ses-3/func/sub-015_ses-3_task-2R_run-3_desc-confounds_timeseries.tsv\n",
      "hemi_L: /data1/projects/Meman1/projects/pilot/derivatives/pybest/sub-015/ses-3/unzscored/sub-015_ses-3_task-2R_run-5_space-fsnative_hemi-L_desc-denoised_bold.npy\n",
      "hemi_R: /data1/projects/Meman1/projects/pilot/derivatives/pybest/sub-015/ses-3/unzscored/sub-015_ses-3_task-2R_run-5_space-fsnative_hemi-R_desc-denoised_bold.npy\n",
      "(337647, 220)\n"
     ]
    },
    {
     "name": "stderr",
     "output_type": "stream",
     "text": [
      "invalid value encountered in divide\n"
     ]
    },
    {
     "name": "stdout",
     "output_type": "stream",
     "text": [
      "confoundsfile:  /data1/projects/Meman1/projects/pilot/derivatives/fmriprep/sub-015/ses-3/func/sub-015_ses-3_task-2R_run-5_desc-confounds_timeseries.tsv\n",
      "hemi_L: /data1/projects/Meman1/projects/pilot/derivatives/pybest/sub-015/ses-3/unzscored/sub-015_ses-3_task-2R_run-6_space-fsnative_hemi-L_desc-denoised_bold.npy\n",
      "hemi_R: /data1/projects/Meman1/projects/pilot/derivatives/pybest/sub-015/ses-3/unzscored/sub-015_ses-3_task-2R_run-6_space-fsnative_hemi-R_desc-denoised_bold.npy\n",
      "(337647, 220)\n"
     ]
    },
    {
     "name": "stderr",
     "output_type": "stream",
     "text": [
      "invalid value encountered in divide\n"
     ]
    },
    {
     "name": "stdout",
     "output_type": "stream",
     "text": [
      "confoundsfile:  /data1/projects/Meman1/projects/pilot/derivatives/fmriprep/sub-015/ses-3/func/sub-015_ses-3_task-2R_run-6_desc-confounds_timeseries.tsv\n",
      "/data1/projects/Meman1/projects/pilot/derivatives/pybest/sub-016/ses-2/unzscored\n",
      "hemi_L: /data1/projects/Meman1/projects/pilot/derivatives/pybest/sub-016/ses-2/unzscored/sub-016_ses-2_task-2R_run-1_space-fsnative_hemi-L_desc-denoised_bold.npy\n",
      "hemi_R: /data1/projects/Meman1/projects/pilot/derivatives/pybest/sub-016/ses-2/unzscored/sub-016_ses-2_task-2R_run-1_space-fsnative_hemi-R_desc-denoised_bold.npy\n",
      "(324105, 220)\n"
     ]
    },
    {
     "name": "stderr",
     "output_type": "stream",
     "text": [
      "invalid value encountered in divide\n"
     ]
    },
    {
     "name": "stdout",
     "output_type": "stream",
     "text": [
      "confoundsfile:  /data1/projects/Meman1/projects/pilot/derivatives/fmriprep/sub-016/ses-2/func/sub-016_ses-2_task-2R_run-1_desc-confounds_timeseries.tsv\n",
      "hemi_L: /data1/projects/Meman1/projects/pilot/derivatives/pybest/sub-016/ses-2/unzscored/sub-016_ses-2_task-2R_run-2_space-fsnative_hemi-L_desc-denoised_bold.npy\n",
      "hemi_R: /data1/projects/Meman1/projects/pilot/derivatives/pybest/sub-016/ses-2/unzscored/sub-016_ses-2_task-2R_run-2_space-fsnative_hemi-R_desc-denoised_bold.npy\n",
      "(324105, 220)\n"
     ]
    },
    {
     "name": "stderr",
     "output_type": "stream",
     "text": [
      "invalid value encountered in divide\n"
     ]
    },
    {
     "name": "stdout",
     "output_type": "stream",
     "text": [
      "confoundsfile:  /data1/projects/Meman1/projects/pilot/derivatives/fmriprep/sub-016/ses-2/func/sub-016_ses-2_task-2R_run-2_desc-confounds_timeseries.tsv\n",
      "hemi_L: /data1/projects/Meman1/projects/pilot/derivatives/pybest/sub-016/ses-2/unzscored/sub-016_ses-2_task-2R_run-3_space-fsnative_hemi-L_desc-denoised_bold.npy\n",
      "hemi_R: /data1/projects/Meman1/projects/pilot/derivatives/pybest/sub-016/ses-2/unzscored/sub-016_ses-2_task-2R_run-3_space-fsnative_hemi-R_desc-denoised_bold.npy\n",
      "(324105, 220)\n"
     ]
    },
    {
     "name": "stderr",
     "output_type": "stream",
     "text": [
      "invalid value encountered in divide\n"
     ]
    },
    {
     "name": "stdout",
     "output_type": "stream",
     "text": [
      "confoundsfile:  /data1/projects/Meman1/projects/pilot/derivatives/fmriprep/sub-016/ses-2/func/sub-016_ses-2_task-2R_run-3_desc-confounds_timeseries.tsv\n",
      "hemi_L: /data1/projects/Meman1/projects/pilot/derivatives/pybest/sub-016/ses-2/unzscored/sub-016_ses-2_task-2R_run-4_space-fsnative_hemi-L_desc-denoised_bold.npy\n",
      "hemi_R: /data1/projects/Meman1/projects/pilot/derivatives/pybest/sub-016/ses-2/unzscored/sub-016_ses-2_task-2R_run-4_space-fsnative_hemi-R_desc-denoised_bold.npy\n",
      "(324105, 220)\n"
     ]
    },
    {
     "name": "stderr",
     "output_type": "stream",
     "text": [
      "invalid value encountered in divide\n"
     ]
    },
    {
     "name": "stdout",
     "output_type": "stream",
     "text": [
      "confoundsfile:  /data1/projects/Meman1/projects/pilot/derivatives/fmriprep/sub-016/ses-2/func/sub-016_ses-2_task-2R_run-4_desc-confounds_timeseries.tsv\n",
      "hemi_L: /data1/projects/Meman1/projects/pilot/derivatives/pybest/sub-016/ses-2/unzscored/sub-016_ses-2_task-2R_run-5_space-fsnative_hemi-L_desc-denoised_bold.npy\n",
      "hemi_R: /data1/projects/Meman1/projects/pilot/derivatives/pybest/sub-016/ses-2/unzscored/sub-016_ses-2_task-2R_run-5_space-fsnative_hemi-R_desc-denoised_bold.npy\n",
      "(324105, 220)\n"
     ]
    },
    {
     "name": "stderr",
     "output_type": "stream",
     "text": [
      "invalid value encountered in divide\n"
     ]
    },
    {
     "name": "stdout",
     "output_type": "stream",
     "text": [
      "confoundsfile:  /data1/projects/Meman1/projects/pilot/derivatives/fmriprep/sub-016/ses-2/func/sub-016_ses-2_task-2R_run-5_desc-confounds_timeseries.tsv\n",
      "hemi_L: /data1/projects/Meman1/projects/pilot/derivatives/pybest/sub-016/ses-2/unzscored/sub-016_ses-2_task-2R_run-6_space-fsnative_hemi-L_desc-denoised_bold.npy\n",
      "hemi_R: /data1/projects/Meman1/projects/pilot/derivatives/pybest/sub-016/ses-2/unzscored/sub-016_ses-2_task-2R_run-6_space-fsnative_hemi-R_desc-denoised_bold.npy\n",
      "(324105, 220)\n"
     ]
    },
    {
     "name": "stderr",
     "output_type": "stream",
     "text": [
      "invalid value encountered in divide\n"
     ]
    },
    {
     "name": "stdout",
     "output_type": "stream",
     "text": [
      "confoundsfile:  /data1/projects/Meman1/projects/pilot/derivatives/fmriprep/sub-016/ses-2/func/sub-016_ses-2_task-2R_run-6_desc-confounds_timeseries.tsv\n",
      "/data1/projects/Meman1/projects/pilot/derivatives/pybest/sub-016/ses-3/unzscored\n",
      "hemi_L: /data1/projects/Meman1/projects/pilot/derivatives/pybest/sub-016/ses-3/unzscored/sub-016_ses-3_task-2R_run-1_space-fsnative_hemi-L_desc-denoised_bold.npy\n",
      "hemi_R: /data1/projects/Meman1/projects/pilot/derivatives/pybest/sub-016/ses-3/unzscored/sub-016_ses-3_task-2R_run-1_space-fsnative_hemi-R_desc-denoised_bold.npy\n",
      "(324105, 220)\n"
     ]
    },
    {
     "name": "stderr",
     "output_type": "stream",
     "text": [
      "invalid value encountered in divide\n"
     ]
    },
    {
     "name": "stdout",
     "output_type": "stream",
     "text": [
      "confoundsfile:  /data1/projects/Meman1/projects/pilot/derivatives/fmriprep/sub-016/ses-3/func/sub-016_ses-3_task-2R_run-1_desc-confounds_timeseries.tsv\n",
      "hemi_L: /data1/projects/Meman1/projects/pilot/derivatives/pybest/sub-016/ses-3/unzscored/sub-016_ses-3_task-2R_run-2_space-fsnative_hemi-L_desc-denoised_bold.npy\n",
      "hemi_R: /data1/projects/Meman1/projects/pilot/derivatives/pybest/sub-016/ses-3/unzscored/sub-016_ses-3_task-2R_run-2_space-fsnative_hemi-R_desc-denoised_bold.npy\n",
      "(324105, 220)\n"
     ]
    },
    {
     "name": "stderr",
     "output_type": "stream",
     "text": [
      "invalid value encountered in divide\n"
     ]
    },
    {
     "name": "stdout",
     "output_type": "stream",
     "text": [
      "confoundsfile:  /data1/projects/Meman1/projects/pilot/derivatives/fmriprep/sub-016/ses-3/func/sub-016_ses-3_task-2R_run-2_desc-confounds_timeseries.tsv\n",
      "hemi_L: /data1/projects/Meman1/projects/pilot/derivatives/pybest/sub-016/ses-3/unzscored/sub-016_ses-3_task-2R_run-3_space-fsnative_hemi-L_desc-denoised_bold.npy\n",
      "hemi_R: /data1/projects/Meman1/projects/pilot/derivatives/pybest/sub-016/ses-3/unzscored/sub-016_ses-3_task-2R_run-3_space-fsnative_hemi-R_desc-denoised_bold.npy\n",
      "(324105, 220)\n"
     ]
    },
    {
     "name": "stderr",
     "output_type": "stream",
     "text": [
      "invalid value encountered in divide\n"
     ]
    },
    {
     "name": "stdout",
     "output_type": "stream",
     "text": [
      "confoundsfile:  /data1/projects/Meman1/projects/pilot/derivatives/fmriprep/sub-016/ses-3/func/sub-016_ses-3_task-2R_run-3_desc-confounds_timeseries.tsv\n",
      "hemi_L: /data1/projects/Meman1/projects/pilot/derivatives/pybest/sub-016/ses-3/unzscored/sub-016_ses-3_task-2R_run-4_space-fsnative_hemi-L_desc-denoised_bold.npy\n",
      "hemi_R: /data1/projects/Meman1/projects/pilot/derivatives/pybest/sub-016/ses-3/unzscored/sub-016_ses-3_task-2R_run-4_space-fsnative_hemi-R_desc-denoised_bold.npy\n",
      "(324105, 220)\n"
     ]
    },
    {
     "name": "stderr",
     "output_type": "stream",
     "text": [
      "invalid value encountered in divide\n"
     ]
    },
    {
     "name": "stdout",
     "output_type": "stream",
     "text": [
      "confoundsfile:  /data1/projects/Meman1/projects/pilot/derivatives/fmriprep/sub-016/ses-3/func/sub-016_ses-3_task-2R_run-4_desc-confounds_timeseries.tsv\n",
      "hemi_L: /data1/projects/Meman1/projects/pilot/derivatives/pybest/sub-016/ses-3/unzscored/sub-016_ses-3_task-2R_run-5_space-fsnative_hemi-L_desc-denoised_bold.npy\n",
      "hemi_R: /data1/projects/Meman1/projects/pilot/derivatives/pybest/sub-016/ses-3/unzscored/sub-016_ses-3_task-2R_run-5_space-fsnative_hemi-R_desc-denoised_bold.npy\n",
      "(324105, 220)\n"
     ]
    },
    {
     "name": "stderr",
     "output_type": "stream",
     "text": [
      "invalid value encountered in divide\n"
     ]
    },
    {
     "name": "stdout",
     "output_type": "stream",
     "text": [
      "confoundsfile:  /data1/projects/Meman1/projects/pilot/derivatives/fmriprep/sub-016/ses-3/func/sub-016_ses-3_task-2R_run-5_desc-confounds_timeseries.tsv\n",
      "hemi_L: /data1/projects/Meman1/projects/pilot/derivatives/pybest/sub-016/ses-3/unzscored/sub-016_ses-3_task-2R_run-6_space-fsnative_hemi-L_desc-denoised_bold.npy\n",
      "hemi_R: /data1/projects/Meman1/projects/pilot/derivatives/pybest/sub-016/ses-3/unzscored/sub-016_ses-3_task-2R_run-6_space-fsnative_hemi-R_desc-denoised_bold.npy\n",
      "(324105, 220)\n",
      "confoundsfile:  /data1/projects/Meman1/projects/pilot/derivatives/fmriprep/sub-016/ses-3/func/sub-016_ses-3_task-2R_run-6_desc-confounds_timeseries.tsv\n"
     ]
    },
    {
     "name": "stderr",
     "output_type": "stream",
     "text": [
      "invalid value encountered in divide\n"
     ]
    }
   ],
   "source": [
    "tSNR_df = pd.DataFrame(columns=['sub', 'ses', 'condition', 'run', 'tSNR_V1', 'tSNR_V2', 'tSNR_V3', 'mean_FD', 'max_FD'])\n",
    "\n",
    "for sub in conditions.keys():              #loop over all subjects\n",
    "    subfolder_pybest = opj(root_folder, 'pybest', sub)\n",
    "    subfolder_fmriprep = opj(root_folder, 'fmriprep',sub)\n",
    "    finalrois= opj(root_folder, 'freesurfer', sub, 'customlabel', 'roidrawing', 'final')\n",
    "\n",
    "    #Load V1 vertices from left hemisphere, together with the number of vertices in the left hemisphere so indexing for right hemisphere works appropriately; the .label files start from 0 and work per hemisphere, whereas Inkscape merges the two hemispheres together.\n",
    "    V1_lh = nib.freesurfer.read_label(opj(finalrois, 'lh.V1.label'))\n",
    "    V2_lh = nib.freesurfer.read_label(opj(finalrois, 'lh.V2.label'))\n",
    "    V3_lh = nib.freesurfer.read_label(opj(finalrois, 'lh.V3.label'))\n",
    "\n",
    "    all_lh = nib.freesurfer.read_geometry(opj(root_folder, 'freesurfer', sub, 'surf', 'lh.inflated'))\n",
    "\n",
    "    #Load V1 vertices from right hemisphere. \n",
    "    V1_rh = nib.freesurfer.read_label(opj(finalrois, 'rh.V1.label'))\n",
    "    V2_rh = nib.freesurfer.read_label(opj(finalrois, 'rh.V2.label'))\n",
    "    V3_rh = nib.freesurfer.read_label(opj(finalrois, 'rh.V3.label'))\n",
    "\n",
    "    all_rh = nib.freesurfer.read_geometry(opj(root_folder, 'freesurfer', sub, 'surf', 'rh.inflated'))\n",
    "\n",
    "    # Get the right indices for the right hemisphere by adding the number of vertices in left hemisphere to the ROI indices for the right hemisphere.\n",
    "    V1_rh = V1_rh + len(all_lh[0])\n",
    "    V2_rh = V2_rh + len(all_lh[0])\n",
    "    V3_rh = V3_rh + len(all_lh[0])\n",
    "\n",
    "    #Concatenate the 2 and sort them such that they are in the right order\n",
    "    V1_vertices = np.sort(np.concatenate([V1_lh, V1_rh]))\n",
    "    V2_vertices = np.sort(np.concatenate([V2_lh, V2_rh]))\n",
    "    V3_vertices = np.sort(np.concatenate([V3_lh, V3_rh]))\n",
    "\n",
    "    for i, session in enumerate([\"ses-2\", \"ses-3\"]):\n",
    "        \n",
    "        ses_folder = opj(subfolder_pybest, session, 'unzscored')\n",
    "        ses_folder_fmriprep = opj(subfolder_fmriprep, session, 'func')\n",
    "\n",
    "        if os.path.exists(ses_folder):\n",
    "            print(ses_folder)\n",
    "            session_pybest = sorted([filename for filename in sorted(os.listdir(ses_folder)) if re.match(filenamepattern, filename)])\n",
    "\n",
    "            for run_nr in range(0, len(session_pybest), 2): #loop over the BOLD data from individual runs. IMPORTANT: REQUIRES APPROPRIATE FILE NUMBERING WITHIN FOLDER SO THAT ALPHABETICAL ORDER CAN BE USED FOR INDEXING\n",
    "                \n",
    "                # see if appropriate data was loaded\n",
    "                print('hemi_L:', os.path.join(ses_folder,session_pybest[run_nr]))\n",
    "                print('hemi_R:', os.path.join(ses_folder,session_pybest[run_nr+1]))\n",
    "\n",
    "                # loading the time courses from pybest\n",
    "                hemi_L = np.load(os.path.join(ses_folder,session_pybest[run_nr]))\n",
    "                hemi_R = np.load(os.path.join(ses_folder,session_pybest[run_nr+1]))\n",
    "                tseries = np.concatenate([hemi_L.T, hemi_R.T]) #concatenate the data\n",
    "\n",
    "                # remove first 5 volumes, which was done during fitting as well\n",
    "                tseries = tseries[:,5:]\n",
    "                print(tseries.shape) # sanity check\n",
    "\n",
    "                # calculate tSNR for all vertices in the brain\n",
    "                tSNR = tseries.mean(axis=1)/tseries.std(axis=1)\n",
    "\n",
    "                # indexing for roi_vertices and calculating the mean tSNR within each ROI\n",
    "                V1_tSNR = tSNR[V1_vertices].mean()\n",
    "                V2_tSNR = tSNR[V2_vertices].mean()\n",
    "                V3_tSNR = tSNR[V3_vertices].mean()\n",
    "\n",
    "                # FD calculation based on fMRIprep output\n",
    "                confoundsfile = opj(ses_folder_fmriprep, f'{session_pybest[run_nr][:27]}_desc-confounds_timeseries.tsv')\n",
    "                print(\"confoundsfile: \", confoundsfile) # sanity check\n",
    "\n",
    "                FD, mean_FD, max_FD = get_max_mean_framewise_displacement(confoundsfile)\n",
    "\n",
    "                # add to dataframe\n",
    "                tSNR_df.loc[len(tSNR_df.index)] = [sub, session, conditions[sub][session], session_pybest[run_nr].split(\"_\")[3], V1_tSNR, V2_tSNR, V3_tSNR, mean_FD, max_FD]"
   ]
  },
  {
   "cell_type": "code",
   "execution_count": 9,
   "metadata": {},
   "outputs": [
    {
     "data": {
      "text/html": [
       "<div>\n",
       "<style scoped>\n",
       "    .dataframe tbody tr th:only-of-type {\n",
       "        vertical-align: middle;\n",
       "    }\n",
       "\n",
       "    .dataframe tbody tr th {\n",
       "        vertical-align: top;\n",
       "    }\n",
       "\n",
       "    .dataframe thead th {\n",
       "        text-align: right;\n",
       "    }\n",
       "</style>\n",
       "<table border=\"1\" class=\"dataframe\">\n",
       "  <thead>\n",
       "    <tr style=\"text-align: right;\">\n",
       "      <th></th>\n",
       "      <th>sub</th>\n",
       "      <th>ses</th>\n",
       "      <th>condition</th>\n",
       "      <th>run</th>\n",
       "      <th>tSNR_V1</th>\n",
       "      <th>tSNR_V2</th>\n",
       "      <th>tSNR_V3</th>\n",
       "      <th>mean_FD</th>\n",
       "      <th>max_FD</th>\n",
       "    </tr>\n",
       "  </thead>\n",
       "  <tbody>\n",
       "    <tr>\n",
       "      <th>0</th>\n",
       "      <td>sub-001</td>\n",
       "      <td>ses-2</td>\n",
       "      <td>placebo</td>\n",
       "      <td>run-1</td>\n",
       "      <td>50.514038</td>\n",
       "      <td>52.548622</td>\n",
       "      <td>64.029182</td>\n",
       "      <td>0.068650</td>\n",
       "      <td>0.146047</td>\n",
       "    </tr>\n",
       "    <tr>\n",
       "      <th>1</th>\n",
       "      <td>sub-001</td>\n",
       "      <td>ses-2</td>\n",
       "      <td>placebo</td>\n",
       "      <td>run-2</td>\n",
       "      <td>55.712536</td>\n",
       "      <td>57.719589</td>\n",
       "      <td>70.860779</td>\n",
       "      <td>0.059410</td>\n",
       "      <td>0.147621</td>\n",
       "    </tr>\n",
       "    <tr>\n",
       "      <th>2</th>\n",
       "      <td>sub-001</td>\n",
       "      <td>ses-2</td>\n",
       "      <td>placebo</td>\n",
       "      <td>run-3</td>\n",
       "      <td>54.483597</td>\n",
       "      <td>59.193878</td>\n",
       "      <td>70.490532</td>\n",
       "      <td>0.061872</td>\n",
       "      <td>0.232449</td>\n",
       "    </tr>\n",
       "    <tr>\n",
       "      <th>3</th>\n",
       "      <td>sub-001</td>\n",
       "      <td>ses-2</td>\n",
       "      <td>placebo</td>\n",
       "      <td>run-4</td>\n",
       "      <td>51.258049</td>\n",
       "      <td>57.108704</td>\n",
       "      <td>67.305687</td>\n",
       "      <td>0.067608</td>\n",
       "      <td>0.248357</td>\n",
       "    </tr>\n",
       "    <tr>\n",
       "      <th>4</th>\n",
       "      <td>sub-001</td>\n",
       "      <td>ses-2</td>\n",
       "      <td>placebo</td>\n",
       "      <td>run-5</td>\n",
       "      <td>52.763199</td>\n",
       "      <td>54.533482</td>\n",
       "      <td>67.316200</td>\n",
       "      <td>0.062095</td>\n",
       "      <td>0.194827</td>\n",
       "    </tr>\n",
       "    <tr>\n",
       "      <th>...</th>\n",
       "      <td>...</td>\n",
       "      <td>...</td>\n",
       "      <td>...</td>\n",
       "      <td>...</td>\n",
       "      <td>...</td>\n",
       "      <td>...</td>\n",
       "      <td>...</td>\n",
       "      <td>...</td>\n",
       "      <td>...</td>\n",
       "    </tr>\n",
       "    <tr>\n",
       "      <th>137</th>\n",
       "      <td>sub-016</td>\n",
       "      <td>ses-3</td>\n",
       "      <td>placebo</td>\n",
       "      <td>run-2</td>\n",
       "      <td>21.336102</td>\n",
       "      <td>28.296669</td>\n",
       "      <td>29.414024</td>\n",
       "      <td>0.434501</td>\n",
       "      <td>4.309990</td>\n",
       "    </tr>\n",
       "    <tr>\n",
       "      <th>138</th>\n",
       "      <td>sub-016</td>\n",
       "      <td>ses-3</td>\n",
       "      <td>placebo</td>\n",
       "      <td>run-3</td>\n",
       "      <td>18.870068</td>\n",
       "      <td>28.159767</td>\n",
       "      <td>30.235878</td>\n",
       "      <td>0.537129</td>\n",
       "      <td>3.762537</td>\n",
       "    </tr>\n",
       "    <tr>\n",
       "      <th>139</th>\n",
       "      <td>sub-016</td>\n",
       "      <td>ses-3</td>\n",
       "      <td>placebo</td>\n",
       "      <td>run-4</td>\n",
       "      <td>27.378563</td>\n",
       "      <td>31.849934</td>\n",
       "      <td>34.075489</td>\n",
       "      <td>0.299497</td>\n",
       "      <td>2.816632</td>\n",
       "    </tr>\n",
       "    <tr>\n",
       "      <th>140</th>\n",
       "      <td>sub-016</td>\n",
       "      <td>ses-3</td>\n",
       "      <td>placebo</td>\n",
       "      <td>run-5</td>\n",
       "      <td>25.786058</td>\n",
       "      <td>32.121235</td>\n",
       "      <td>31.914808</td>\n",
       "      <td>0.368279</td>\n",
       "      <td>3.510836</td>\n",
       "    </tr>\n",
       "    <tr>\n",
       "      <th>141</th>\n",
       "      <td>sub-016</td>\n",
       "      <td>ses-3</td>\n",
       "      <td>placebo</td>\n",
       "      <td>run-6</td>\n",
       "      <td>23.835337</td>\n",
       "      <td>29.398386</td>\n",
       "      <td>30.985113</td>\n",
       "      <td>0.364659</td>\n",
       "      <td>3.720880</td>\n",
       "    </tr>\n",
       "  </tbody>\n",
       "</table>\n",
       "<p>142 rows × 9 columns</p>\n",
       "</div>"
      ],
      "text/plain": [
       "         sub    ses condition    run    tSNR_V1    tSNR_V2    tSNR_V3  \\\n",
       "0    sub-001  ses-2   placebo  run-1  50.514038  52.548622  64.029182   \n",
       "1    sub-001  ses-2   placebo  run-2  55.712536  57.719589  70.860779   \n",
       "2    sub-001  ses-2   placebo  run-3  54.483597  59.193878  70.490532   \n",
       "3    sub-001  ses-2   placebo  run-4  51.258049  57.108704  67.305687   \n",
       "4    sub-001  ses-2   placebo  run-5  52.763199  54.533482  67.316200   \n",
       "..       ...    ...       ...    ...        ...        ...        ...   \n",
       "137  sub-016  ses-3   placebo  run-2  21.336102  28.296669  29.414024   \n",
       "138  sub-016  ses-3   placebo  run-3  18.870068  28.159767  30.235878   \n",
       "139  sub-016  ses-3   placebo  run-4  27.378563  31.849934  34.075489   \n",
       "140  sub-016  ses-3   placebo  run-5  25.786058  32.121235  31.914808   \n",
       "141  sub-016  ses-3   placebo  run-6  23.835337  29.398386  30.985113   \n",
       "\n",
       "      mean_FD    max_FD  \n",
       "0    0.068650  0.146047  \n",
       "1    0.059410  0.147621  \n",
       "2    0.061872  0.232449  \n",
       "3    0.067608  0.248357  \n",
       "4    0.062095  0.194827  \n",
       "..        ...       ...  \n",
       "137  0.434501  4.309990  \n",
       "138  0.537129  3.762537  \n",
       "139  0.299497  2.816632  \n",
       "140  0.368279  3.510836  \n",
       "141  0.364659  3.720880  \n",
       "\n",
       "[142 rows x 9 columns]"
      ]
     },
     "execution_count": 9,
     "metadata": {},
     "output_type": "execute_result"
    }
   ],
   "source": [
    "# look at the dataframe to see if it was done correctly\n",
    "tSNR_df"
   ]
  },
  {
   "cell_type": "code",
   "execution_count": 8,
   "metadata": {},
   "outputs": [
    {
     "name": "stdout",
     "output_type": "stream",
     "text": [
      "total NaNs in V1: 0\n",
      "total NaNs in V2: 0\n",
      "total NaNs in V3: 0\n",
      "total NaNs in mean FD: 0\n"
     ]
    }
   ],
   "source": [
    "# See if there are NaNs in the tSNR values due to zeroes in signal in one of the ROIs (should not be the case)\n",
    "print('total NaNs in V1:', tSNR_df['tSNR_V1'].isna().sum())\n",
    "print('total NaNs in V2:', tSNR_df['tSNR_V2'].isna().sum())\n",
    "print('total NaNs in V3:', tSNR_df['tSNR_V3'].isna().sum())\n",
    "\n",
    "print('total NaNs in mean FD:', tSNR_df['mean_FD'].isna().sum())"
   ]
  },
  {
   "cell_type": "markdown",
   "metadata": {},
   "source": [
    "## <h2>2. Within-subject analysis of scan quality between the two sessions</h2>"
   ]
  },
  {
   "cell_type": "markdown",
   "metadata": {},
   "source": [
    "First, you want to plot and test differences between the quality metrics between scans for each participant individually. Asterisks indicate significant differences between the sessions!"
   ]
  },
  {
   "cell_type": "code",
   "execution_count": 7,
   "metadata": {},
   "outputs": [
    {
     "data": {
      "image/png": "[encoded data removed]",
      "text/plain": [
       "<Figure size 1800x648 with 1 Axes>"
      ]
     },
     "metadata": {
      "needs_background": "light"
     },
     "output_type": "display_data"
    },
    {
     "data": {
      "image/png": "[encoded data removed]",
      "text/plain": [
       "<Figure size 1800x648 with 1 Axes>"
      ]
     },
     "metadata": {
      "needs_background": "light"
     },
     "output_type": "display_data"
    },
    {
     "data": {
      "image/png": "[encoded data removed]",
      "text/plain": [
       "<Figure size 1800x648 with 1 Axes>"
      ]
     },
     "metadata": {
      "needs_background": "light"
     },
     "output_type": "display_data"
    },
    {
     "data": {
      "image/png": "[encoded data removed]",
      "text/plain": [
       "<Figure size 1800x648 with 1 Axes>"
      ]
     },
     "metadata": {
      "needs_background": "light"
     },
     "output_type": "display_data"
    }
   ],
   "source": [
    "plt.rcParams.update({'font.family': 'Montserrat'})\n",
    "\n",
    "# Set colors for each participant\n",
    "colors = sns.color_palette('tab20', n_colors=12)\n",
    "metricsofinterest=['tSNR_V1', 'tSNR_V2', 'tSNR_V3', 'mean_FD']\n",
    "\n",
    "# loop over each scan quality metric first\n",
    "for j, metric in enumerate(metricsofinterest):\n",
    "    \n",
    "    # create scatterplot\n",
    "    plt.figure(figsize=(25, 9))\n",
    "    ticklocs=[]\n",
    "    subjects=[]\n",
    "    plt_titles = ['V1 tSNR', 'V2 tSNR', 'V3 tSNR', 'mean FD']\n",
    "\n",
    "    # now, loop over each subject\n",
    "    for i, participant in enumerate(tSNR_df['sub'].unique()):\n",
    "        participant_data = tSNR_df[tSNR_df['sub'] == participant]\n",
    "\n",
    "        plt.scatter(participant_data.index, participant_data[metric], label=participant, color=colors[i], s=70)\n",
    "        ticklocs.append(participant_data.index.values.mean())\n",
    "        \n",
    "        # filter data for ses-2 and ses-3\n",
    "        plac_data = participant_data[participant_data['condition'] == 'placebo'][metric]\n",
    "        mem_data = participant_data[participant_data['condition'] == 'memantine'][metric]\n",
    "     \n",
    "        # calculate difference in metric between sessions per subject\n",
    "        stat, p_value = mannwhitneyu(plac_data, mem_data)\n",
    "        \n",
    "        # quantify significance based on p-value for plotting \n",
    "        if p_value<0.001:\n",
    "            subjects.append(participant+'***')\n",
    "        elif p_value<0.01:\n",
    "            subjects.append(participant+'**')\n",
    "        elif p_value<0.05:\n",
    "            subjects.append(participant+'*')\n",
    "        else:\n",
    "            subjects.append(participant)\n",
    "\n",
    "        # plot grey line which is the mean of the metric over the session\n",
    "        plt.hlines(y=plac_data.mean(),xmin=min(plac_data.index), xmax=max(plac_data.index), color='grey', linewidth=3)\n",
    "        plt.hlines(y=mem_data.mean(),xmin=min(mem_data.index), xmax=max(mem_data.index), color='grey', linewidth=3)\n",
    "\n",
    "        # plot the condition below the session\n",
    "        if metric in ['tSNR_V1', 'tSNR_V2', 'tSNR_V3']:\n",
    "            plt.text(plac_data.index.values.mean(),16, 'plac', fontsize=12, horizontalalignment='center')\n",
    "            plt.text(mem_data.index.values.mean(),16, 'mem', fontsize=12, horizontalalignment='center')\n",
    "        \n",
    "        else:\n",
    "            plt.text(plac_data.index.values.mean(),0.01, 'plac', fontsize=12, horizontalalignment='center')\n",
    "            plt.text(mem_data.index.values.mean(),0.01, 'mem', fontsize=12, horizontalalignment='center')\n",
    "    \n",
    "    # set labels and title\n",
    "    \n",
    "    if metric in ['tSNR_V1', 'tSNR_V2', 'tSNR_V3']:\n",
    "        plt.ylabel('tSNR', fontsize=24)\n",
    "        plt.ylim(15,90)\n",
    "    \n",
    "    else:\n",
    "        plt.ylabel('Mean FD (mm)', fontsize=24)\n",
    "        plt.ylim(0,0.8)\n",
    "        \n",
    "    save_path = f\"/data1/projects/Meman1/projects/pilot/code/floris/figures/{metric}_runcomparison.png\"\n",
    "    \n",
    "    plt.title(f'{plt_titles[j]} for each run by participant and session', fontsize=30)\n",
    "\n",
    "    plt.xticks(ticklocs, subjects, fontsize=20)\n",
    "    plt.yticks(fontsize=16)\n",
    "    plt.tight_layout()\n",
    "    sns.despine()\n",
    "\n",
    "    plt.savefig(save_path)\n",
    "    plt.show()"
   ]
  },
  {
   "cell_type": "markdown",
   "metadata": {},
   "source": [
    "## <h2>3. Group analysis of scan quality differences between placebo and memantine\n",
    "\n",
    "Now, we can calculate whether there is a significant difference between the conditions on a group level:"
   ]
  },
  {
   "cell_type": "code",
   "execution_count": 10,
   "metadata": {},
   "outputs": [
    {
     "data": {
      "text/html": [
       "<div>\n",
       "<style scoped>\n",
       "    .dataframe tbody tr th:only-of-type {\n",
       "        vertical-align: middle;\n",
       "    }\n",
       "\n",
       "    .dataframe tbody tr th {\n",
       "        vertical-align: top;\n",
       "    }\n",
       "\n",
       "    .dataframe thead tr th {\n",
       "        text-align: left;\n",
       "    }\n",
       "</style>\n",
       "<table border=\"1\" class=\"dataframe\">\n",
       "  <thead>\n",
       "    <tr>\n",
       "      <th></th>\n",
       "      <th>sub</th>\n",
       "      <th>ses</th>\n",
       "      <th>condition</th>\n",
       "      <th colspan=\"2\" halign=\"left\">tSNR_V1</th>\n",
       "      <th colspan=\"2\" halign=\"left\">tSNR_V2</th>\n",
       "      <th colspan=\"2\" halign=\"left\">tSNR_V3</th>\n",
       "      <th colspan=\"2\" halign=\"left\">mean_FD</th>\n",
       "      <th colspan=\"2\" halign=\"left\">max_FD</th>\n",
       "    </tr>\n",
       "    <tr>\n",
       "      <th></th>\n",
       "      <th></th>\n",
       "      <th></th>\n",
       "      <th></th>\n",
       "      <th>mean</th>\n",
       "      <th>SEM</th>\n",
       "      <th>mean</th>\n",
       "      <th>SEM</th>\n",
       "      <th>mean</th>\n",
       "      <th>SEM</th>\n",
       "      <th>mean</th>\n",
       "      <th>SEM</th>\n",
       "      <th>mean</th>\n",
       "      <th>SEM</th>\n",
       "    </tr>\n",
       "  </thead>\n",
       "  <tbody>\n",
       "    <tr>\n",
       "      <th>0</th>\n",
       "      <td>sub-001</td>\n",
       "      <td>ses-2</td>\n",
       "      <td>placebo</td>\n",
       "      <td>53.026726</td>\n",
       "      <td>0.726657</td>\n",
       "      <td>56.455532</td>\n",
       "      <td>0.910709</td>\n",
       "      <td>68.327179</td>\n",
       "      <td>0.976188</td>\n",
       "      <td>0.063356</td>\n",
       "      <td>0.001430</td>\n",
       "      <td>0.200646</td>\n",
       "      <td>0.016887</td>\n",
       "    </tr>\n",
       "    <tr>\n",
       "      <th>2</th>\n",
       "      <td>sub-002</td>\n",
       "      <td>ses-2</td>\n",
       "      <td>placebo</td>\n",
       "      <td>38.621105</td>\n",
       "      <td>2.626276</td>\n",
       "      <td>42.980194</td>\n",
       "      <td>1.988004</td>\n",
       "      <td>43.637287</td>\n",
       "      <td>2.892429</td>\n",
       "      <td>0.167086</td>\n",
       "      <td>0.022524</td>\n",
       "      <td>0.732108</td>\n",
       "      <td>0.116334</td>\n",
       "    </tr>\n",
       "    <tr>\n",
       "      <th>5</th>\n",
       "      <td>sub-003</td>\n",
       "      <td>ses-3</td>\n",
       "      <td>placebo</td>\n",
       "      <td>26.825539</td>\n",
       "      <td>1.592380</td>\n",
       "      <td>25.784849</td>\n",
       "      <td>1.517254</td>\n",
       "      <td>33.836571</td>\n",
       "      <td>1.792308</td>\n",
       "      <td>0.116022</td>\n",
       "      <td>0.008292</td>\n",
       "      <td>0.680668</td>\n",
       "      <td>0.154083</td>\n",
       "    </tr>\n",
       "    <tr>\n",
       "      <th>7</th>\n",
       "      <td>sub-004</td>\n",
       "      <td>ses-3</td>\n",
       "      <td>placebo</td>\n",
       "      <td>44.942543</td>\n",
       "      <td>1.652100</td>\n",
       "      <td>54.744919</td>\n",
       "      <td>2.302718</td>\n",
       "      <td>60.441856</td>\n",
       "      <td>2.934924</td>\n",
       "      <td>0.093544</td>\n",
       "      <td>0.002692</td>\n",
       "      <td>0.507173</td>\n",
       "      <td>0.200547</td>\n",
       "    </tr>\n",
       "    <tr>\n",
       "      <th>8</th>\n",
       "      <td>sub-005</td>\n",
       "      <td>ses-2</td>\n",
       "      <td>placebo</td>\n",
       "      <td>57.312717</td>\n",
       "      <td>1.989014</td>\n",
       "      <td>65.498322</td>\n",
       "      <td>2.246002</td>\n",
       "      <td>68.896606</td>\n",
       "      <td>4.168919</td>\n",
       "      <td>0.110177</td>\n",
       "      <td>0.006905</td>\n",
       "      <td>0.301686</td>\n",
       "      <td>0.056307</td>\n",
       "    </tr>\n",
       "    <tr>\n",
       "      <th>11</th>\n",
       "      <td>sub-007</td>\n",
       "      <td>ses-3</td>\n",
       "      <td>placebo</td>\n",
       "      <td>30.367516</td>\n",
       "      <td>1.075030</td>\n",
       "      <td>35.890285</td>\n",
       "      <td>1.474459</td>\n",
       "      <td>42.733738</td>\n",
       "      <td>2.292025</td>\n",
       "      <td>0.079810</td>\n",
       "      <td>0.003268</td>\n",
       "      <td>0.377462</td>\n",
       "      <td>0.047194</td>\n",
       "    </tr>\n",
       "    <tr>\n",
       "      <th>12</th>\n",
       "      <td>sub-008</td>\n",
       "      <td>ses-2</td>\n",
       "      <td>placebo</td>\n",
       "      <td>36.383980</td>\n",
       "      <td>2.121407</td>\n",
       "      <td>35.093014</td>\n",
       "      <td>1.459635</td>\n",
       "      <td>47.399109</td>\n",
       "      <td>2.686347</td>\n",
       "      <td>0.107946</td>\n",
       "      <td>0.008113</td>\n",
       "      <td>0.890055</td>\n",
       "      <td>0.151906</td>\n",
       "    </tr>\n",
       "    <tr>\n",
       "      <th>14</th>\n",
       "      <td>sub-010</td>\n",
       "      <td>ses-2</td>\n",
       "      <td>placebo</td>\n",
       "      <td>39.018494</td>\n",
       "      <td>1.361277</td>\n",
       "      <td>46.553894</td>\n",
       "      <td>1.338835</td>\n",
       "      <td>53.870541</td>\n",
       "      <td>1.614516</td>\n",
       "      <td>0.082257</td>\n",
       "      <td>0.006715</td>\n",
       "      <td>0.646840</td>\n",
       "      <td>0.184450</td>\n",
       "    </tr>\n",
       "    <tr>\n",
       "      <th>17</th>\n",
       "      <td>sub-012</td>\n",
       "      <td>ses-3</td>\n",
       "      <td>placebo</td>\n",
       "      <td>24.782688</td>\n",
       "      <td>0.485375</td>\n",
       "      <td>25.788849</td>\n",
       "      <td>0.501095</td>\n",
       "      <td>29.696884</td>\n",
       "      <td>0.696848</td>\n",
       "      <td>0.258111</td>\n",
       "      <td>0.008402</td>\n",
       "      <td>2.787789</td>\n",
       "      <td>0.263325</td>\n",
       "    </tr>\n",
       "    <tr>\n",
       "      <th>18</th>\n",
       "      <td>sub-013</td>\n",
       "      <td>ses-2</td>\n",
       "      <td>placebo</td>\n",
       "      <td>49.410820</td>\n",
       "      <td>1.249100</td>\n",
       "      <td>55.511070</td>\n",
       "      <td>0.816258</td>\n",
       "      <td>65.476189</td>\n",
       "      <td>1.792459</td>\n",
       "      <td>0.082663</td>\n",
       "      <td>0.003533</td>\n",
       "      <td>0.327664</td>\n",
       "      <td>0.056141</td>\n",
       "    </tr>\n",
       "    <tr>\n",
       "      <th>23</th>\n",
       "      <td>sub-016</td>\n",
       "      <td>ses-3</td>\n",
       "      <td>placebo</td>\n",
       "      <td>22.277611</td>\n",
       "      <td>1.555485</td>\n",
       "      <td>28.854448</td>\n",
       "      <td>1.196969</td>\n",
       "      <td>30.195612</td>\n",
       "      <td>1.191828</td>\n",
       "      <td>0.441067</td>\n",
       "      <td>0.047422</td>\n",
       "      <td>4.152541</td>\n",
       "      <td>0.514752</td>\n",
       "    </tr>\n",
       "  </tbody>\n",
       "</table>\n",
       "</div>"
      ],
      "text/plain": [
       "        sub    ses condition    tSNR_V1              tSNR_V2            \\\n",
       "                                   mean       SEM       mean       SEM   \n",
       "0   sub-001  ses-2   placebo  53.026726  0.726657  56.455532  0.910709   \n",
       "2   sub-002  ses-2   placebo  38.621105  2.626276  42.980194  1.988004   \n",
       "5   sub-003  ses-3   placebo  26.825539  1.592380  25.784849  1.517254   \n",
       "7   sub-004  ses-3   placebo  44.942543  1.652100  54.744919  2.302718   \n",
       "8   sub-005  ses-2   placebo  57.312717  1.989014  65.498322  2.246002   \n",
       "11  sub-007  ses-3   placebo  30.367516  1.075030  35.890285  1.474459   \n",
       "12  sub-008  ses-2   placebo  36.383980  2.121407  35.093014  1.459635   \n",
       "14  sub-010  ses-2   placebo  39.018494  1.361277  46.553894  1.338835   \n",
       "17  sub-012  ses-3   placebo  24.782688  0.485375  25.788849  0.501095   \n",
       "18  sub-013  ses-2   placebo  49.410820  1.249100  55.511070  0.816258   \n",
       "23  sub-016  ses-3   placebo  22.277611  1.555485  28.854448  1.196969   \n",
       "\n",
       "      tSNR_V3             mean_FD              max_FD            \n",
       "         mean       SEM      mean       SEM      mean       SEM  \n",
       "0   68.327179  0.976188  0.063356  0.001430  0.200646  0.016887  \n",
       "2   43.637287  2.892429  0.167086  0.022524  0.732108  0.116334  \n",
       "5   33.836571  1.792308  0.116022  0.008292  0.680668  0.154083  \n",
       "7   60.441856  2.934924  0.093544  0.002692  0.507173  0.200547  \n",
       "8   68.896606  4.168919  0.110177  0.006905  0.301686  0.056307  \n",
       "11  42.733738  2.292025  0.079810  0.003268  0.377462  0.047194  \n",
       "12  47.399109  2.686347  0.107946  0.008113  0.890055  0.151906  \n",
       "14  53.870541  1.614516  0.082257  0.006715  0.646840  0.184450  \n",
       "17  29.696884  0.696848  0.258111  0.008402  2.787789  0.263325  \n",
       "18  65.476189  1.792459  0.082663  0.003533  0.327664  0.056141  \n",
       "23  30.195612  1.191828  0.441067  0.047422  4.152541  0.514752  "
      ]
     },
     "metadata": {},
     "output_type": "display_data"
    },
    {
     "data": {
      "text/html": [
       "<div>\n",
       "<style scoped>\n",
       "    .dataframe tbody tr th:only-of-type {\n",
       "        vertical-align: middle;\n",
       "    }\n",
       "\n",
       "    .dataframe tbody tr th {\n",
       "        vertical-align: top;\n",
       "    }\n",
       "\n",
       "    .dataframe thead tr th {\n",
       "        text-align: left;\n",
       "    }\n",
       "</style>\n",
       "<table border=\"1\" class=\"dataframe\">\n",
       "  <thead>\n",
       "    <tr>\n",
       "      <th></th>\n",
       "      <th>sub</th>\n",
       "      <th>ses</th>\n",
       "      <th>condition</th>\n",
       "      <th colspan=\"2\" halign=\"left\">tSNR_V1</th>\n",
       "      <th colspan=\"2\" halign=\"left\">tSNR_V2</th>\n",
       "      <th colspan=\"2\" halign=\"left\">tSNR_V3</th>\n",
       "      <th colspan=\"2\" halign=\"left\">mean_FD</th>\n",
       "      <th colspan=\"2\" halign=\"left\">max_FD</th>\n",
       "    </tr>\n",
       "    <tr>\n",
       "      <th></th>\n",
       "      <th></th>\n",
       "      <th></th>\n",
       "      <th></th>\n",
       "      <th>mean</th>\n",
       "      <th>SEM</th>\n",
       "      <th>mean</th>\n",
       "      <th>SEM</th>\n",
       "      <th>mean</th>\n",
       "      <th>SEM</th>\n",
       "      <th>mean</th>\n",
       "      <th>SEM</th>\n",
       "      <th>mean</th>\n",
       "      <th>SEM</th>\n",
       "    </tr>\n",
       "  </thead>\n",
       "  <tbody>\n",
       "    <tr>\n",
       "      <th>1</th>\n",
       "      <td>sub-001</td>\n",
       "      <td>ses-3</td>\n",
       "      <td>memantine</td>\n",
       "      <td>50.359337</td>\n",
       "      <td>0.513161</td>\n",
       "      <td>55.295479</td>\n",
       "      <td>0.542582</td>\n",
       "      <td>67.877342</td>\n",
       "      <td>0.705858</td>\n",
       "      <td>0.059341</td>\n",
       "      <td>0.000930</td>\n",
       "      <td>0.162122</td>\n",
       "      <td>0.024596</td>\n",
       "    </tr>\n",
       "    <tr>\n",
       "      <th>3</th>\n",
       "      <td>sub-002</td>\n",
       "      <td>ses-3</td>\n",
       "      <td>memantine</td>\n",
       "      <td>26.619297</td>\n",
       "      <td>1.139408</td>\n",
       "      <td>38.638145</td>\n",
       "      <td>1.169383</td>\n",
       "      <td>34.214115</td>\n",
       "      <td>1.136996</td>\n",
       "      <td>0.177968</td>\n",
       "      <td>0.025509</td>\n",
       "      <td>0.967328</td>\n",
       "      <td>0.202173</td>\n",
       "    </tr>\n",
       "    <tr>\n",
       "      <th>4</th>\n",
       "      <td>sub-003</td>\n",
       "      <td>ses-2</td>\n",
       "      <td>memantine</td>\n",
       "      <td>32.933048</td>\n",
       "      <td>1.044891</td>\n",
       "      <td>32.961941</td>\n",
       "      <td>1.146983</td>\n",
       "      <td>41.843277</td>\n",
       "      <td>1.066877</td>\n",
       "      <td>0.088857</td>\n",
       "      <td>0.005064</td>\n",
       "      <td>0.568934</td>\n",
       "      <td>0.100590</td>\n",
       "    </tr>\n",
       "    <tr>\n",
       "      <th>6</th>\n",
       "      <td>sub-004</td>\n",
       "      <td>ses-2</td>\n",
       "      <td>memantine</td>\n",
       "      <td>39.798840</td>\n",
       "      <td>0.888395</td>\n",
       "      <td>46.824127</td>\n",
       "      <td>1.251587</td>\n",
       "      <td>53.802105</td>\n",
       "      <td>1.422738</td>\n",
       "      <td>0.114138</td>\n",
       "      <td>0.010792</td>\n",
       "      <td>0.755831</td>\n",
       "      <td>0.188575</td>\n",
       "    </tr>\n",
       "    <tr>\n",
       "      <th>9</th>\n",
       "      <td>sub-005</td>\n",
       "      <td>ses-3</td>\n",
       "      <td>memantine</td>\n",
       "      <td>59.957462</td>\n",
       "      <td>1.687368</td>\n",
       "      <td>66.915230</td>\n",
       "      <td>1.943539</td>\n",
       "      <td>68.351685</td>\n",
       "      <td>2.601640</td>\n",
       "      <td>0.108936</td>\n",
       "      <td>0.004237</td>\n",
       "      <td>0.349603</td>\n",
       "      <td>0.056508</td>\n",
       "    </tr>\n",
       "    <tr>\n",
       "      <th>10</th>\n",
       "      <td>sub-007</td>\n",
       "      <td>ses-2</td>\n",
       "      <td>memantine</td>\n",
       "      <td>29.712982</td>\n",
       "      <td>1.060376</td>\n",
       "      <td>33.727253</td>\n",
       "      <td>0.833607</td>\n",
       "      <td>39.477707</td>\n",
       "      <td>0.781778</td>\n",
       "      <td>0.085401</td>\n",
       "      <td>0.003847</td>\n",
       "      <td>0.342323</td>\n",
       "      <td>0.025590</td>\n",
       "    </tr>\n",
       "    <tr>\n",
       "      <th>13</th>\n",
       "      <td>sub-008</td>\n",
       "      <td>ses-3</td>\n",
       "      <td>memantine</td>\n",
       "      <td>33.412712</td>\n",
       "      <td>0.725946</td>\n",
       "      <td>34.391647</td>\n",
       "      <td>0.949372</td>\n",
       "      <td>46.267555</td>\n",
       "      <td>1.881205</td>\n",
       "      <td>0.111924</td>\n",
       "      <td>0.008228</td>\n",
       "      <td>0.577344</td>\n",
       "      <td>0.078230</td>\n",
       "    </tr>\n",
       "    <tr>\n",
       "      <th>15</th>\n",
       "      <td>sub-010</td>\n",
       "      <td>ses-3</td>\n",
       "      <td>memantine</td>\n",
       "      <td>43.065544</td>\n",
       "      <td>0.464113</td>\n",
       "      <td>52.154427</td>\n",
       "      <td>1.150714</td>\n",
       "      <td>58.172047</td>\n",
       "      <td>1.031960</td>\n",
       "      <td>0.079112</td>\n",
       "      <td>0.002853</td>\n",
       "      <td>0.293308</td>\n",
       "      <td>0.031078</td>\n",
       "    </tr>\n",
       "    <tr>\n",
       "      <th>16</th>\n",
       "      <td>sub-012</td>\n",
       "      <td>ses-2</td>\n",
       "      <td>memantine</td>\n",
       "      <td>36.304890</td>\n",
       "      <td>0.972334</td>\n",
       "      <td>47.499500</td>\n",
       "      <td>1.041247</td>\n",
       "      <td>51.103584</td>\n",
       "      <td>1.345560</td>\n",
       "      <td>0.149163</td>\n",
       "      <td>0.003743</td>\n",
       "      <td>0.948275</td>\n",
       "      <td>0.223192</td>\n",
       "    </tr>\n",
       "    <tr>\n",
       "      <th>19</th>\n",
       "      <td>sub-013</td>\n",
       "      <td>ses-3</td>\n",
       "      <td>memantine</td>\n",
       "      <td>44.228863</td>\n",
       "      <td>0.981301</td>\n",
       "      <td>55.142185</td>\n",
       "      <td>1.530590</td>\n",
       "      <td>59.914631</td>\n",
       "      <td>1.782419</td>\n",
       "      <td>0.111564</td>\n",
       "      <td>0.004410</td>\n",
       "      <td>0.274046</td>\n",
       "      <td>0.020114</td>\n",
       "    </tr>\n",
       "    <tr>\n",
       "      <th>22</th>\n",
       "      <td>sub-016</td>\n",
       "      <td>ses-2</td>\n",
       "      <td>memantine</td>\n",
       "      <td>25.534740</td>\n",
       "      <td>1.783995</td>\n",
       "      <td>31.659950</td>\n",
       "      <td>1.853011</td>\n",
       "      <td>33.009090</td>\n",
       "      <td>1.923653</td>\n",
       "      <td>0.315025</td>\n",
       "      <td>0.026481</td>\n",
       "      <td>6.161037</td>\n",
       "      <td>0.676958</td>\n",
       "    </tr>\n",
       "  </tbody>\n",
       "</table>\n",
       "</div>"
      ],
      "text/plain": [
       "        sub    ses  condition    tSNR_V1              tSNR_V2            \\\n",
       "                                    mean       SEM       mean       SEM   \n",
       "1   sub-001  ses-3  memantine  50.359337  0.513161  55.295479  0.542582   \n",
       "3   sub-002  ses-3  memantine  26.619297  1.139408  38.638145  1.169383   \n",
       "4   sub-003  ses-2  memantine  32.933048  1.044891  32.961941  1.146983   \n",
       "6   sub-004  ses-2  memantine  39.798840  0.888395  46.824127  1.251587   \n",
       "9   sub-005  ses-3  memantine  59.957462  1.687368  66.915230  1.943539   \n",
       "10  sub-007  ses-2  memantine  29.712982  1.060376  33.727253  0.833607   \n",
       "13  sub-008  ses-3  memantine  33.412712  0.725946  34.391647  0.949372   \n",
       "15  sub-010  ses-3  memantine  43.065544  0.464113  52.154427  1.150714   \n",
       "16  sub-012  ses-2  memantine  36.304890  0.972334  47.499500  1.041247   \n",
       "19  sub-013  ses-3  memantine  44.228863  0.981301  55.142185  1.530590   \n",
       "22  sub-016  ses-2  memantine  25.534740  1.783995  31.659950  1.853011   \n",
       "\n",
       "      tSNR_V3             mean_FD              max_FD            \n",
       "         mean       SEM      mean       SEM      mean       SEM  \n",
       "1   67.877342  0.705858  0.059341  0.000930  0.162122  0.024596  \n",
       "3   34.214115  1.136996  0.177968  0.025509  0.967328  0.202173  \n",
       "4   41.843277  1.066877  0.088857  0.005064  0.568934  0.100590  \n",
       "6   53.802105  1.422738  0.114138  0.010792  0.755831  0.188575  \n",
       "9   68.351685  2.601640  0.108936  0.004237  0.349603  0.056508  \n",
       "10  39.477707  0.781778  0.085401  0.003847  0.342323  0.025590  \n",
       "13  46.267555  1.881205  0.111924  0.008228  0.577344  0.078230  \n",
       "15  58.172047  1.031960  0.079112  0.002853  0.293308  0.031078  \n",
       "16  51.103584  1.345560  0.149163  0.003743  0.948275  0.223192  \n",
       "19  59.914631  1.782419  0.111564  0.004410  0.274046  0.020114  \n",
       "22  33.009090  1.923653  0.315025  0.026481  6.161037  0.676958  "
      ]
     },
     "metadata": {},
     "output_type": "display_data"
    }
   ],
   "source": [
    "# Calculate mean and SEM for each metric per session\n",
    "metrics = ['tSNR_V1', 'tSNR_V2', 'tSNR_V3', 'mean_FD','max_FD']\n",
    "agg_results = {}\n",
    "for metric in metrics:\n",
    "    agg_results[metric] = tSNR_df.groupby(['sub', 'ses', 'condition'])[metric].agg([('mean', 'mean'), ('SEM', lambda x: np.std(x) / np.sqrt(len(x)))])\n",
    "\n",
    "# Combine results into a single DataFrame\n",
    "final_df = pd.concat(agg_results, axis=1)\n",
    "\n",
    "#Reset index to have 'Participant', 'Session', 'Condition' as columns\n",
    "final_df.reset_index(inplace=True)\n",
    "\n",
    "# Split DF into placebo and memantine\n",
    "placebo_data=final_df[(final_df[\"condition\"] == \"placebo\")]\n",
    "memantine_data=final_df[(final_df[\"condition\"] == \"memantine\")]\n",
    "\n",
    "#drop subject 15\n",
    "placebo_data = placebo_data[placebo_data['sub'] != 'sub-015']\n",
    "memantine_data = memantine_data[memantine_data['sub'] != 'sub-015']\n",
    "\n",
    "display(placebo_data)\n",
    "display(memantine_data)"
   ]
  },
  {
   "cell_type": "markdown",
   "metadata": {},
   "source": [
    "Let's now calculate the group-level difference in quality metrics between sessions."
   ]
  },
  {
   "cell_type": "code",
   "execution_count": 11,
   "metadata": {},
   "outputs": [
    {
     "name": "stdout",
     "output_type": "stream",
     "text": [
      "Framewise Displacement (mm)\n",
      "mean for placebo data is 0.146, standard deviation 0.112\n",
      "mean for memantine data is 0.127, standard deviation 0.07\n",
      "\n",
      "test-statistic of paired t-test is 1.18\n",
      "p-value of paired t-test is 0.265\n",
      "\n",
      "V1 tSNR\n",
      "mean for placebo data is 38.452, standard deviation 11.764\n",
      "mean for memantine data is 38.357, standard deviation 10.509\n",
      "\n",
      "test-statistic of paired t-test is 0.049\n",
      "p-value of paired t-test is 0.962\n",
      "\n",
      "V2 tSNR\n",
      "mean for placebo data is 43.014, standard deviation 13.784\n",
      "mean for memantine data is 45.019, standard deviation 11.631\n",
      "\n",
      "test-statistic of paired t-test is -0.853\n",
      "p-value of paired t-test is 0.414\n",
      "\n",
      "V3 tSNR\n",
      "mean for placebo data is 49.501, standard deviation 14.898\n",
      "mean for memantine data is 50.367, standard deviation 12.509\n",
      "\n",
      "test-statistic of paired t-test is -0.339\n",
      "p-value of paired t-test is 0.742\n",
      "\n"
     ]
    },
    {
     "data": {
      "image/png": "[encoded data removed]",
      "text/plain": [
       "<Figure size 2880x864 with 4 Axes>"
      ]
     },
     "metadata": {
      "needs_background": "light"
     },
     "output_type": "display_data"
    }
   ],
   "source": [
    "plt.rcParams.update({'font.size':32})\n",
    "plt.rcParams.update({'font.family': 'Montserrat'})\n",
    "\n",
    "fig, axes = plt.subplots(1,4, figsize=(40,12))\n",
    "\n",
    "# loop over individual metrics\n",
    "for i,metric in enumerate([\"mean_FD\",\"tSNR_V1\", \"tSNR_V2\", \"tSNR_V3\"]):\n",
    "    ax=axes[i]\n",
    "    plt_titles = ['Framewise Displacement (mm)', 'V1 tSNR', 'V2 tSNR', 'V3 tSNR']\n",
    "    print(plt_titles[i])\n",
    "\n",
    "    print(f'mean for placebo data is {round(placebo_data[metric, \"mean\"].mean(), 3)}, standard deviation {round(placebo_data[metric,\"mean\"].std(), 3)}')\n",
    "    print(f'mean for memantine data is {round(memantine_data[metric, \"mean\"].mean(), 3)}, standard deviation {round(memantine_data[metric, \"mean\"].std(), 3)}')\n",
    "    print('')\n",
    "\n",
    "    # perform Wilcoxon signed rank test\n",
    "    stat, p_value = ttest_rel(placebo_data[metric, \"mean\"], memantine_data[metric, \"mean\"])\n",
    "    print(f'test-statistic of paired t-test is {round(stat, 3)}')\n",
    "    print(f'p-value of paired t-test is {round(p_value, 3)}')\n",
    "    print('')\n",
    "\n",
    "    # Plot placebo data\n",
    "    ax.bar(0,placebo_data[metric, \"mean\"].mean(), width=0.4, color='royalblue')\n",
    "\n",
    "    # Plot drug data\n",
    "    ax.bar(0.6,memantine_data[metric, \"mean\"].mean(), width=0.4, color='firebrick' )\n",
    "\n",
    "    # Add labels and title\n",
    "    ax.set_xlabel('Condition')\n",
    "    ax.set_xticks([0, 0.6], ['Placebo', 'Memantine'])\n",
    "\n",
    "    if metric in ['tSNR_V1', 'tSNR_V2', 'tSNR_V3']:\n",
    "        ax.text(0.3, 70,f'p={round(p_value, 3)}', horizontalalignment='center')\n",
    "\n",
    "    else:\n",
    "        ax.text(0.3, 0.465,f'p={round(p_value, 3)}', horizontalalignment='center')\n",
    "   \n",
    "    # Draw individual data points\n",
    "    for j in range(len(placebo_data)): \n",
    "        plac_value = (0 + random.uniform(-0.1, 0.1), placebo_data.iloc[j][metric, 'mean'])\n",
    "        mem_value = (0.6 + random.uniform(-0.1, 0.1), memantine_data.iloc[j][metric, 'mean'])\n",
    "\n",
    "        #Scatter the points\n",
    "        ax.scatter(plac_value[0], plac_value[1], color='black', alpha=0.7, s=80)\n",
    "        ax.scatter(mem_value[0], mem_value[1], color='black', alpha=0.7, s=80)\n",
    "\n",
    "        #Plot line between points\n",
    "        ax.plot([plac_value[0], mem_value[0]], [plac_value[1], mem_value[1]], color='black', alpha=0.3)\n",
    "\n",
    "        #Plot error bar for each point\n",
    "        ax.vlines(plac_value[0],ymin=plac_value[1]-(placebo_data.iloc[j][metric, 'SEM']/2), ymax=plac_value[1]+(placebo_data.iloc[j][metric, 'SEM']/2), color='black', alpha=0.6)\n",
    "        ax.vlines(mem_value[0],ymin=mem_value[1]-(memantine_data.iloc[j][metric, 'SEM']/2), ymax=mem_value[1]+(memantine_data.iloc[j][metric, 'SEM']/2), color='black', alpha=0.6)\n",
    "\n",
    "    # Show plot\n",
    "    if metric in ['tSNR_V1', 'tSNR_V2', 'tSNR_V3']:\n",
    "        ax.set_ylim((0,75))\n",
    "        ax.set_title(plt_titles[i], fontsize=36)\n",
    "    else:\n",
    "        ax.set_ylim((0,0.5))\n",
    "        ax.set_ylabel('FD (mm)')\n",
    "        ax.set_title(\"Mean Framewise Displacement\")\n",
    "    \n",
    "    plt.tight_layout()\n",
    "    sns.despine()\n",
    "\n",
    "save_path = f\"/data1/projects/Meman1/projects/pilot/code/floris/figures/scanquality_sessioncomparison.png\"\n",
    "\n",
    "plt.savefig(save_path)\n",
    "plt.show()"
   ]
  }
 ],
 "metadata": {
  "kernelspec": {
   "display_name": "preproc",
   "language": "python",
   "name": "preproc"
  },
  "language_info": {
   "codemirror_mode": {
    "name": "ipython",
    "version": 3
   },
   "file_extension": ".py",
   "mimetype": "text/x-python",
   "name": "python",
   "nbconvert_exporter": "python",
   "pygments_lexer": "ipython3",
   "version": "3.9.13"
  }
 },
 "nbformat": 4,
 "nbformat_minor": 2
}
